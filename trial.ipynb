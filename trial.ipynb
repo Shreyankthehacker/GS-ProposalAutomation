{
 "cells": [
  {
   "cell_type": "code",
   "execution_count": null,
   "metadata": {},
   "outputs": [],
   "source": [
    "\n"
   ]
  },
  {
   "cell_type": "code",
   "execution_count": 4,
   "metadata": {},
   "outputs": [],
   "source": [
    "from pydantic import BaseModel,Field\n",
    "from typing import List\n",
    "import json\n",
    "\n",
    "class User(BaseModel):\n",
    "    name : str = Field(description=\"name of the organziation\")\n",
    "    logo : str = Field(description=\"Logo of the given website\")\n",
    "    detailed_description : str = Field(description='A detailed description of what the organization does ')\n",
    "    services_offered: List[str] = Field(description=\"A list of services offered by the organization on the given website\")\n",
    "    color_theme : List[str] = Field(description=\"The color of the website in the format of hexa code\")\n",
    "\n",
    "\n",
    "\n",
    "\n",
    "from crawl4ai import LLMConfig,AsyncWebCrawler,CacheMode,CrawlerRunConfig,BrowserConfig\n",
    "from crawl4ai.extraction_strategy import LLMExtractionStrategy\n",
    "import os \n",
    "from dotenv import load_dotenv\n",
    "load_dotenv()\n",
    "\n",
    "llm_strategy = LLMExtractionStrategy(\n",
    "    llm_config=LLMConfig(\n",
    "        provider=\"gemini/gemini-2.0-flash\",\n",
    "        api_token=os.getenv(\"GOOGLE_API_KEY\"),\n",
    "    ),\n",
    "    schema=User.model_json_schema(),\n",
    "    extraction_type=\"schema\",\n",
    "        instruction=\"\"\"\n",
    "You are analyzing a webpage to extract structured information about the organization behind it.\n",
    "\n",
    "Your goal is to extract the following:\n",
    "\n",
    "1. **Name**: The name of the organization or company.\n",
    "2. **Logo**: The URL of the primary logo image (typically found in the header or near the company name).\n",
    "3. **Detailed Description**: A clear and informative summary of what the organization does. \n",
    "   - This should come from the section of the page typically labeled or titled \"About\", \"Who We Are\", \"Our Story\", or similar.\n",
    "   - If the page does not have a heading, look for paragraphs or text blocks that describe the company's purpose, mission, background, or offerings.\n",
    "   - Do not include text that is clearly part of blog posts, testimonials, products, or contact details.\n",
    "\n",
    "Tips:\n",
    "- Focus on sections that describe the identity, mission, background, or goals of the organization.\n",
    "- If multiple descriptive sections exist, prioritize the one closest to the top of the page or under an \"About\"-like heading.\n",
    "- Avoid generic filler content like navigation menus, service listings, or unrelated calls to action.\n",
    "\n",
    "Return the data in the format defined by the schema.\n",
    "\"\"\"\n",
    ",    chunk_token_threshold=1000,\n",
    "    overlap_rate=0.0,\n",
    "    apply_chunking=True,\n",
    "    input_format=\"markdown\",   # or \"html\", \"fit_markdown\"\n",
    "    extra_args={\"temperature\": 0.0, \"max_tokens\": 800}\n",
    ")\n",
    "\n",
    "crawl_config = CrawlerRunConfig(\n",
    "    extraction_strategy=llm_strategy,\n",
    "    cache_mode=CacheMode.BYPASS\n",
    ")\n",
    "\n",
    "\n",
    "browser_cfg = BrowserConfig(headless=True)\n",
    "\n",
    "async def get_data(url:str):\n",
    "\n",
    "    async with AsyncWebCrawler(config= browser_cfg) as crawler:\n",
    "        result = await crawler.arun(\n",
    "            url = url,\n",
    "            config = crawl_config)\n",
    "    \n",
    "    if result.success:\n",
    "        print(f\"Successfully scraped : '\\n\\n\\n {result.extracted_content}\")\n",
    "        return json.loads(result.extracted_content)\n",
    "    else:\n",
    "        print(f\"The code exited with eroor {result.error_message}\")\n"
   ]
  },
  {
   "cell_type": "code",
   "execution_count": 5,
   "metadata": {},
   "outputs": [
    {
     "data": {
      "text/html": [
       "<pre style=\"white-space:pre;overflow-x:auto;line-height:normal;font-family:Menlo,'DejaVu Sans Mono',consolas,'Courier New',monospace\"><span style=\"color: #008080; text-decoration-color: #008080; font-weight: bold\">[</span><span style=\"color: #008080; text-decoration-color: #008080\">INIT</span><span style=\"color: #008080; text-decoration-color: #008080; font-weight: bold\">]</span><span style=\"color: #008080; text-decoration-color: #008080\">.... → Crawl4AI </span><span style=\"color: #008080; text-decoration-color: #008080; font-weight: bold\">0.6</span><span style=\"color: #008080; text-decoration-color: #008080\">.</span><span style=\"color: #008080; text-decoration-color: #008080; font-weight: bold\">3</span><span style=\"color: #008080; text-decoration-color: #008080\"> </span>\n",
       "</pre>\n"
      ],
      "text/plain": [
       "\u001b[1;36m[\u001b[0m\u001b[36mINIT\u001b[0m\u001b[1;36m]\u001b[0m\u001b[36m...\u001b[0m\u001b[36m. → Crawl4AI \u001b[0m\u001b[1;36m0.6\u001b[0m\u001b[36m.\u001b[0m\u001b[1;36m3\u001b[0m\u001b[36m \u001b[0m\n"
      ]
     },
     "metadata": {},
     "output_type": "display_data"
    },
    {
     "data": {
      "text/html": [
       "<pre style=\"white-space:pre;overflow-x:auto;line-height:normal;font-family:Menlo,'DejaVu Sans Mono',consolas,'Courier New',monospace\"><span style=\"color: #008000; text-decoration-color: #008000; font-weight: bold\">[</span><span style=\"color: #008000; text-decoration-color: #008000\">FETCH</span><span style=\"color: #008000; text-decoration-color: #008000; font-weight: bold\">]</span><span style=\"color: #008000; text-decoration-color: #008000\">... ↓ </span><span style=\"color: #008000; text-decoration-color: #008000; text-decoration: underline\">https://www.growthsutra.pro/</span><span style=\"color: #008000; text-decoration-color: #008000\">                                                                         |</span>\n",
       "<span style=\"color: #008000; text-decoration-color: #008000\">✓ | ⏱: </span><span style=\"color: #008000; text-decoration-color: #008000; font-weight: bold\">2.</span><span style=\"color: #008000; text-decoration-color: #008000\">31s </span>\n",
       "</pre>\n"
      ],
      "text/plain": [
       "\u001b[1;32m[\u001b[0m\u001b[32mFETCH\u001b[0m\u001b[1;32m]\u001b[0m\u001b[32m...\u001b[0m\u001b[32m ↓ \u001b[0m\u001b[4;32mhttps://www.growthsutra.pro/\u001b[0m\u001b[32m                                                                         |\u001b[0m\n",
       "\u001b[32m✓\u001b[0m\u001b[32m | ⏱: \u001b[0m\u001b[1;32m2.\u001b[0m\u001b[32m31s \u001b[0m\n"
      ]
     },
     "metadata": {},
     "output_type": "display_data"
    },
    {
     "data": {
      "text/html": [
       "<pre style=\"white-space:pre;overflow-x:auto;line-height:normal;font-family:Menlo,'DejaVu Sans Mono',consolas,'Courier New',monospace\"><span style=\"color: #008000; text-decoration-color: #008000; font-weight: bold\">[</span><span style=\"color: #008000; text-decoration-color: #008000\">SCRAPE</span><span style=\"color: #008000; text-decoration-color: #008000; font-weight: bold\">]</span><span style=\"color: #008000; text-decoration-color: #008000\">.. ◆ </span><span style=\"color: #008000; text-decoration-color: #008000; text-decoration: underline\">https://www.growthsutra.pro/</span><span style=\"color: #008000; text-decoration-color: #008000\">                                                                         |</span>\n",
       "<span style=\"color: #008000; text-decoration-color: #008000\">✓ | ⏱: </span><span style=\"color: #008000; text-decoration-color: #008000; font-weight: bold\">0.</span><span style=\"color: #008000; text-decoration-color: #008000\">20s </span>\n",
       "</pre>\n"
      ],
      "text/plain": [
       "\u001b[1;32m[\u001b[0m\u001b[32mSCRAPE\u001b[0m\u001b[1;32m]\u001b[0m\u001b[32m.. ◆ \u001b[0m\u001b[4;32mhttps://www.growthsutra.pro/\u001b[0m\u001b[32m                                                                         |\u001b[0m\n",
       "\u001b[32m✓\u001b[0m\u001b[32m | ⏱: \u001b[0m\u001b[1;32m0.\u001b[0m\u001b[32m20s \u001b[0m\n"
      ]
     },
     "metadata": {},
     "output_type": "display_data"
    },
    {
     "data": {
      "text/html": [
       "<pre style=\"white-space:pre;overflow-x:auto;line-height:normal;font-family:Menlo,'DejaVu Sans Mono',consolas,'Courier New',monospace\"><span style=\"color: #008080; text-decoration-color: #008080; font-weight: bold\">[</span><span style=\"color: #008080; text-decoration-color: #008080\">EXTRACT</span><span style=\"color: #008080; text-decoration-color: #008080; font-weight: bold\">]</span><span style=\"color: #008080; text-decoration-color: #008080\">. ■ Completed for </span><span style=\"color: #008080; text-decoration-color: #008080; text-decoration: underline\">https://www.growthsutra.pro/...</span><span style=\"color: #008080; text-decoration-color: #008080\"> | Time: </span><span style=\"color: #008080; text-decoration-color: #008080; font-weight: bold\">7.</span><span style=\"color: #008080; text-decoration-color: #008080\">349609482000005s </span>\n",
       "</pre>\n"
      ],
      "text/plain": [
       "\u001b[1;36m[\u001b[0m\u001b[36mEXTRACT\u001b[0m\u001b[1;36m]\u001b[0m\u001b[36m. ■ Completed for \u001b[0m\u001b[4;36mhttps://www.growthsutra.pro/...\u001b[0m\u001b[36m | Time: \u001b[0m\u001b[1;36m7.\u001b[0m\u001b[36m349609482000005s \u001b[0m\n"
      ]
     },
     "metadata": {},
     "output_type": "display_data"
    },
    {
     "data": {
      "text/html": [
       "<pre style=\"white-space:pre;overflow-x:auto;line-height:normal;font-family:Menlo,'DejaVu Sans Mono',consolas,'Courier New',monospace\"><span style=\"color: #008000; text-decoration-color: #008000; font-weight: bold\">[</span><span style=\"color: #008000; text-decoration-color: #008000\">COMPLETE</span><span style=\"color: #008000; text-decoration-color: #008000; font-weight: bold\">]</span><span style=\"color: #008000; text-decoration-color: #008000\"> ● </span><span style=\"color: #008000; text-decoration-color: #008000; text-decoration: underline\">https://www.growthsutra.pro/</span><span style=\"color: #008000; text-decoration-color: #008000\">                                                                         |</span>\n",
       "<span style=\"color: #008000; text-decoration-color: #008000\">✓ | ⏱: </span><span style=\"color: #008000; text-decoration-color: #008000; font-weight: bold\">9.</span><span style=\"color: #008000; text-decoration-color: #008000\">87s </span>\n",
       "</pre>\n"
      ],
      "text/plain": [
       "\u001b[1;32m[\u001b[0m\u001b[32mCOMPLETE\u001b[0m\u001b[1;32m]\u001b[0m\u001b[32m ● \u001b[0m\u001b[4;32mhttps://www.growthsutra.pro/\u001b[0m\u001b[32m                                                                         |\u001b[0m\n",
       "\u001b[32m✓\u001b[0m\u001b[32m | ⏱: \u001b[0m\u001b[1;32m9.\u001b[0m\u001b[32m87s \u001b[0m\n"
      ]
     },
     "metadata": {},
     "output_type": "display_data"
    },
    {
     "name": "stdout",
     "output_type": "stream",
     "text": [
      "Successfully scraped : '\n",
      "\n",
      "\n",
      " [\n",
      "    {\n",
      "        \"name\": \"GROWTHSUTRA LLP\",\n",
      "        \"logo\": \"https://static.wixstatic.com/media/708455_927be4579fd04a1289dd85befae03e98~mv2.png/v1/fill/w_49,h_26,al_c,q_85,usm_0.66_1.00_0.01,blur_2,enc_auto/708455_927be4579fd04a1289dd85befae03e98~mv2.png\",\n",
      "        \"detailed_description\": \"GrowthSutra helps companies build winning teams for an AI-First World. They offer services like Go-To-Market Partner, On-Demand CMO, and Revenue Architect.\",\n",
      "        \"services_offered\": [\n",
      "            \"Go-To-Market Partner\",\n",
      "            \"On-Demand CMO\",\n",
      "            \"Revenue Architect\",\n",
      "            \"XPRT Co-Pilots\"\n",
      "        ],\n",
      "        \"color_theme\": [],\n",
      "        \"error\": false\n",
      "    },\n",
      "    {\n",
      "        \"name\": \"GrowthSutra\",\n",
      "        \"logo\": \"https://static.wixstatic.com/media/cb6b3d_5c8f2b020ebe48b69bc8c163cc480156~mv2.png/v1/fill/w_60,h_60,al_c,q_85,usm_0.66_1.00_0.01,enc_avif,quality_auto/GrowthSutra%20Logo.png\",\n",
      "        \"detailed_description\": \"At GrowthSutra, we are the go-to experts dedicated to accelerate brand and revenue growth for startups and SMBs. We provide the Fortune 500-caliber strategic thinking and flawless execution needed to gain market access, customer traction, and investor interest. Our team is comprised of seasoned marketing, communications, sales, and leadership executives, each with over 20+ years of real-world expertise launching and scaling disruptive brands across technology, e-commerce, climate, FMCG, and other major industries. We combine our team\\\\'s unmatched experience with rigorous project governance and proven data-driven frameworks to get you measurable results fast. Our approach is tailored to each client\\\\'s unique needs and objectives.\",\n",
      "        \"services_offered\": [\n",
      "            \"GTM Partner\",\n",
      "            \"On-Demand CMO\",\n",
      "            \"Revenue Architect\",\n",
      "            \"XPRT Co-Pilots\",\n",
      "            \"Ice Breakers\"\n",
      "        ],\n",
      "        \"color_theme\": [],\n",
      "        \"error\": false\n",
      "    }\n",
      "]\n"
     ]
    }
   ],
   "source": [
    "result = await get_data ('https://www.growthsutra.pro/')"
   ]
  },
  {
   "cell_type": "code",
   "execution_count": 1,
   "metadata": {},
   "outputs": [],
   "source": [
    "import re\n",
    "import requests\n",
    "from bs4 import BeautifulSoup\n",
    "from urllib.parse import urljoin\n",
    "\n",
    "def extract_hex_colors(url: str, limit: int = 5) -> list:\n",
    "    try:\n",
    "        response = requests.get(url, timeout=10)\n",
    "        soup = BeautifulSoup(response.text, 'html.parser')\n",
    "\n",
    "        # Find inline styles\n",
    "        inline_styles = [tag.get('style', '') for tag in soup.find_all(style=True)]\n",
    "        css_text = ' '.join(inline_styles)\n",
    "\n",
    "        # Find linked stylesheets\n",
    "        css_links = [link['href'] for link in soup.find_all('link', rel='stylesheet') if 'href' in link.attrs]\n",
    "\n",
    "        for href in css_links:\n",
    "            full_url = urljoin(url, href)\n",
    "            try:\n",
    "                css_response = requests.get(full_url, timeout=5)\n",
    "                css_text += ' ' + css_response.text\n",
    "            except:\n",
    "                continue\n",
    "\n",
    "        # Extract hex codes\n",
    "        hex_colors = re.findall(r'#[0-9a-fA-F]{3,6}', css_text)\n",
    "        hex_colors = list(dict.fromkeys(hex_colors))  # remove duplicates, preserve order\n",
    "        return hex_colors[:limit]  # return top `limit` hex codes\n",
    "    except Exception as e:\n",
    "        print(f\"Error extracting hex colors: {e}\")\n",
    "        return []\n"
   ]
  },
  {
   "cell_type": "code",
   "execution_count": 2,
   "metadata": {},
   "outputs": [
    {
     "data": {
      "text/plain": [
       "['#FFFFFF', '#4F4F4F', '#101213', '#DBDBDB', '#299E75']"
      ]
     },
     "execution_count": 2,
     "metadata": {},
     "output_type": "execute_result"
    }
   ],
   "source": [
    "extract_hex_colors('https://www.growthsutra.pro/ ')"
   ]
  },
  {
   "cell_type": "code",
   "execution_count": 3,
   "metadata": {},
   "outputs": [
    {
     "data": {
      "text/html": [
       "<div style='display:flex; gap:10px;'><div style='width:60px; height:60px; background-color:#FFFFFF; border:1px solid #000;'></div><div style='width:60px; height:60px; background-color:#4F4F4F; border:1px solid #000;'></div><div style='width:60px; height:60px; background-color:#101213; border:1px solid #000;'></div><div style='width:60px; height:60px; background-color:#DBDBDB; border:1px solid #000;'></div><div style='width:60px; height:60px; background-color:#299E75; border:1px solid #000;'></div></div>"
      ],
      "text/plain": [
       "<IPython.core.display.HTML object>"
      ]
     },
     "metadata": {},
     "output_type": "display_data"
    }
   ],
   "source": [
    "from IPython.display import display, HTML\n",
    "\n",
    "colors = ['#FFFFFF', '#4F4F4F', '#101213', '#DBDBDB', '#299E75']\n",
    "\n",
    "html = \"<div style='display:flex; gap:10px;'>\"\n",
    "for color in colors:\n",
    "    html += f\"<div style='width:60px; height:60px; background-color:{color}; border:1px solid #000;'></div>\"\n",
    "html += \"</div>\"\n",
    "\n",
    "display(HTML(html))\n"
   ]
  },
  {
   "cell_type": "code",
   "execution_count": null,
   "metadata": {},
   "outputs": [
    {
     "name": "stdout",
     "output_type": "stream",
     "text": [
      "```json\n",
      "[\n",
      "\"https://growthsutras.com/\",\n",
      "\"https://www.sutramanagement.com/\",\n",
      "\"https://www.youtube.com/@growthsutras\"\n",
      "]\n",
      "```\n"
     ]
    },
    {
     "ename": "JSONDecodeError",
     "evalue": "Expecting value: line 1 column 1 (char 0)",
     "output_type": "error",
     "traceback": [
      "\u001b[0;31m---------------------------------------------------------------------------\u001b[0m",
      "\u001b[0;31mJSONDecodeError\u001b[0m                           Traceback (most recent call last)",
      "Cell \u001b[0;32mIn[12], line 3\u001b[0m\n\u001b[1;32m      1\u001b[0m \u001b[38;5;28;01mfrom\u001b[39;00m\u001b[38;5;250m \u001b[39m\u001b[38;5;21;01mSearchAndRecommendation\u001b[39;00m\u001b[38;5;21;01m.\u001b[39;00m\u001b[38;5;21;01mwebsiterecommendation\u001b[39;00m\u001b[38;5;21;01m.\u001b[39;00m\u001b[38;5;21;01murl_utils\u001b[39;00m\u001b[38;5;250m \u001b[39m\u001b[38;5;28;01mimport\u001b[39;00m get_urls\n\u001b[0;32m----> 3\u001b[0m urls \u001b[38;5;241m=\u001b[39m \u001b[38;5;28;01mawait\u001b[39;00m get_urls(\u001b[38;5;124m\"\u001b[39m\u001b[38;5;124mGrowth suthra\u001b[39m\u001b[38;5;124m\"\u001b[39m)\n",
      "File \u001b[0;32m~/Gen-ai/Growth/SearchAndRecommendation/websiterecommendation/url_utils.py:37\u001b[0m, in \u001b[0;36mget_urls\u001b[0;34m(company_name, runner, user_id, session_id)\u001b[0m\n\u001b[1;32m     35\u001b[0m             final_msg \u001b[38;5;241m=\u001b[39m event\u001b[38;5;241m.\u001b[39merror_message\n\u001b[1;32m     36\u001b[0m \u001b[38;5;28mprint\u001b[39m(final_msg)\n\u001b[0;32m---> 37\u001b[0m \u001b[38;5;28;01mreturn\u001b[39;00m \u001b[43mjson\u001b[49m\u001b[38;5;241;43m.\u001b[39;49m\u001b[43mloads\u001b[49m\u001b[43m(\u001b[49m\u001b[43mfinal_msg\u001b[49m\u001b[43m[\u001b[49m\u001b[38;5;241;43m4\u001b[39;49m\u001b[43m:\u001b[49m\u001b[43m]\u001b[49m\u001b[43m)\u001b[49m\n",
      "File \u001b[0;32m~/anaconda3/envs/adk/lib/python3.13/json/__init__.py:346\u001b[0m, in \u001b[0;36mloads\u001b[0;34m(s, cls, object_hook, parse_float, parse_int, parse_constant, object_pairs_hook, **kw)\u001b[0m\n\u001b[1;32m    341\u001b[0m     s \u001b[38;5;241m=\u001b[39m s\u001b[38;5;241m.\u001b[39mdecode(detect_encoding(s), \u001b[38;5;124m'\u001b[39m\u001b[38;5;124msurrogatepass\u001b[39m\u001b[38;5;124m'\u001b[39m)\n\u001b[1;32m    343\u001b[0m \u001b[38;5;28;01mif\u001b[39;00m (\u001b[38;5;28mcls\u001b[39m \u001b[38;5;129;01mis\u001b[39;00m \u001b[38;5;28;01mNone\u001b[39;00m \u001b[38;5;129;01mand\u001b[39;00m object_hook \u001b[38;5;129;01mis\u001b[39;00m \u001b[38;5;28;01mNone\u001b[39;00m \u001b[38;5;129;01mand\u001b[39;00m\n\u001b[1;32m    344\u001b[0m         parse_int \u001b[38;5;129;01mis\u001b[39;00m \u001b[38;5;28;01mNone\u001b[39;00m \u001b[38;5;129;01mand\u001b[39;00m parse_float \u001b[38;5;129;01mis\u001b[39;00m \u001b[38;5;28;01mNone\u001b[39;00m \u001b[38;5;129;01mand\u001b[39;00m\n\u001b[1;32m    345\u001b[0m         parse_constant \u001b[38;5;129;01mis\u001b[39;00m \u001b[38;5;28;01mNone\u001b[39;00m \u001b[38;5;129;01mand\u001b[39;00m object_pairs_hook \u001b[38;5;129;01mis\u001b[39;00m \u001b[38;5;28;01mNone\u001b[39;00m \u001b[38;5;129;01mand\u001b[39;00m \u001b[38;5;129;01mnot\u001b[39;00m kw):\n\u001b[0;32m--> 346\u001b[0m     \u001b[38;5;28;01mreturn\u001b[39;00m \u001b[43m_default_decoder\u001b[49m\u001b[38;5;241;43m.\u001b[39;49m\u001b[43mdecode\u001b[49m\u001b[43m(\u001b[49m\u001b[43ms\u001b[49m\u001b[43m)\u001b[49m\n\u001b[1;32m    347\u001b[0m \u001b[38;5;28;01mif\u001b[39;00m \u001b[38;5;28mcls\u001b[39m \u001b[38;5;129;01mis\u001b[39;00m \u001b[38;5;28;01mNone\u001b[39;00m:\n\u001b[1;32m    348\u001b[0m     \u001b[38;5;28mcls\u001b[39m \u001b[38;5;241m=\u001b[39m JSONDecoder\n",
      "File \u001b[0;32m~/anaconda3/envs/adk/lib/python3.13/json/decoder.py:345\u001b[0m, in \u001b[0;36mJSONDecoder.decode\u001b[0;34m(self, s, _w)\u001b[0m\n\u001b[1;32m    340\u001b[0m \u001b[38;5;28;01mdef\u001b[39;00m\u001b[38;5;250m \u001b[39m\u001b[38;5;21mdecode\u001b[39m(\u001b[38;5;28mself\u001b[39m, s, _w\u001b[38;5;241m=\u001b[39mWHITESPACE\u001b[38;5;241m.\u001b[39mmatch):\n\u001b[1;32m    341\u001b[0m \u001b[38;5;250m    \u001b[39m\u001b[38;5;124;03m\"\"\"Return the Python representation of ``s`` (a ``str`` instance\u001b[39;00m\n\u001b[1;32m    342\u001b[0m \u001b[38;5;124;03m    containing a JSON document).\u001b[39;00m\n\u001b[1;32m    343\u001b[0m \n\u001b[1;32m    344\u001b[0m \u001b[38;5;124;03m    \"\"\"\u001b[39;00m\n\u001b[0;32m--> 345\u001b[0m     obj, end \u001b[38;5;241m=\u001b[39m \u001b[38;5;28;43mself\u001b[39;49m\u001b[38;5;241;43m.\u001b[39;49m\u001b[43mraw_decode\u001b[49m\u001b[43m(\u001b[49m\u001b[43ms\u001b[49m\u001b[43m,\u001b[49m\u001b[43m \u001b[49m\u001b[43midx\u001b[49m\u001b[38;5;241;43m=\u001b[39;49m\u001b[43m_w\u001b[49m\u001b[43m(\u001b[49m\u001b[43ms\u001b[49m\u001b[43m,\u001b[49m\u001b[43m \u001b[49m\u001b[38;5;241;43m0\u001b[39;49m\u001b[43m)\u001b[49m\u001b[38;5;241;43m.\u001b[39;49m\u001b[43mend\u001b[49m\u001b[43m(\u001b[49m\u001b[43m)\u001b[49m\u001b[43m)\u001b[49m\n\u001b[1;32m    346\u001b[0m     end \u001b[38;5;241m=\u001b[39m _w(s, end)\u001b[38;5;241m.\u001b[39mend()\n\u001b[1;32m    347\u001b[0m     \u001b[38;5;28;01mif\u001b[39;00m end \u001b[38;5;241m!=\u001b[39m \u001b[38;5;28mlen\u001b[39m(s):\n",
      "File \u001b[0;32m~/anaconda3/envs/adk/lib/python3.13/json/decoder.py:363\u001b[0m, in \u001b[0;36mJSONDecoder.raw_decode\u001b[0;34m(self, s, idx)\u001b[0m\n\u001b[1;32m    361\u001b[0m     obj, end \u001b[38;5;241m=\u001b[39m \u001b[38;5;28mself\u001b[39m\u001b[38;5;241m.\u001b[39mscan_once(s, idx)\n\u001b[1;32m    362\u001b[0m \u001b[38;5;28;01mexcept\u001b[39;00m \u001b[38;5;167;01mStopIteration\u001b[39;00m \u001b[38;5;28;01mas\u001b[39;00m err:\n\u001b[0;32m--> 363\u001b[0m     \u001b[38;5;28;01mraise\u001b[39;00m JSONDecodeError(\u001b[38;5;124m\"\u001b[39m\u001b[38;5;124mExpecting value\u001b[39m\u001b[38;5;124m\"\u001b[39m, s, err\u001b[38;5;241m.\u001b[39mvalue) \u001b[38;5;28;01mfrom\u001b[39;00m\u001b[38;5;250m \u001b[39m\u001b[38;5;28;01mNone\u001b[39;00m\n\u001b[1;32m    364\u001b[0m \u001b[38;5;28;01mreturn\u001b[39;00m obj, end\n",
      "\u001b[0;31mJSONDecodeError\u001b[0m: Expecting value: line 1 column 1 (char 0)"
     ]
    }
   ],
   "source": [
    "from SearchAndRecommendation.url_recommendation.url_utils import get_urls\n",
    "\n",
    "urls = await get_urls(\"Growth suthra\")"
   ]
  },
  {
   "cell_type": "code",
   "execution_count": null,
   "metadata": {},
   "outputs": [],
   "source": [
    "from SearchAndRecommendation.url_recommendation.url_utils import get_urls\n",
    "\n",
    "urls = await get_urls(\"Growth suthra\")"
   ]
  },
  {
   "cell_type": "code",
   "execution_count": 5,
   "metadata": {},
   "outputs": [
    {
     "data": {
      "text/plain": [
       "'[\\n\"https://growthsutras.com/\",\\n\"https://www.suthra.com/\",\\n\"https://www.growsutra.com/\"\\n]\\n'"
      ]
     },
     "execution_count": 5,
     "metadata": {},
     "output_type": "execute_result"
    }
   ],
   "source": [
    "urls"
   ]
  },
  {
   "cell_type": "code",
   "execution_count": 9,
   "metadata": {},
   "outputs": [
    {
     "data": {
      "text/plain": [
       "['https://growthsutras.com/',\n",
       " 'https://www.suthra.com/',\n",
       " 'https://www.growsutra.com/']"
      ]
     },
     "execution_count": 9,
     "metadata": {},
     "output_type": "execute_result"
    }
   ],
   "source": [
    "import json\n",
    "\n",
    "json.loads(urls)"
   ]
  },
  {
   "cell_type": "code",
   "execution_count": 4,
   "metadata": {},
   "outputs": [],
   "source": [
    "s = '''json\n",
    "[\n",
    "\"https://growthsutras.com/\",\n",
    "\"https://www.sutramanagement.com/\",\n",
    "\"https://www.youtube.com/@growthsutras\"\n",
    "]\n",
    "'''\n",
    "import json\n",
    "import re\n",
    "\n",
    "def extract_list_from_string(s):\n",
    "    # Remove any prefix like 'json' and extract the JSON array part\n",
    "    match = re.search(r\"\\[.*\\]\", s, re.DOTALL)\n",
    "    if match:\n",
    "        try:\n",
    "            return json.loads(match.group())\n",
    "        except json.JSONDecodeError:\n",
    "            print(\"Failed to parse list.\")\n",
    "    else:\n",
    "        print(\"No list found.\")\n",
    "    return None\n",
    "\n"
   ]
  },
  {
   "cell_type": "code",
   "execution_count": 13,
   "metadata": {},
   "outputs": [],
   "source": [
    "from langchain_google_genai import ChatGoogleGenerativeAI\n",
    "from WebScraper.state import User\n",
    "from typing import Optional\n",
    "import json\n",
    "from langchain_core.prompts import ChatPromptTemplate\n",
    "from langchain_core.output_parsers import StrOutputParser\n",
    "\n",
    "\n",
    "llm = ChatGoogleGenerativeAI(model = 'gemini-2.0-flash')\n",
    "\n",
    "\n",
    "template = '''\n",
    "You are a smart autocompletion assistant for writing professional sales proposals.\n",
    "\n",
    "Based on the given context and company details, generate a list of 3 high-quality autocompletion suggestions. Each suggestion should:\n",
    "- Start from the last significant word or phrase in the context.\n",
    "- Be a natural and extended continuation (at least 6-7 sentences).\n",
    "- Be relevant to the context and company details.\n",
    "- Maintain a persuasive, business-oriented tone suitable for formal proposals.\n",
    "\n",
    "Return only a valid Python list of 3 strings. Each string should be a longer paragraph-style continuation. Do not include any explanation, markdown, or other formatting.\n",
    "\n",
    "Context:\n",
    "{text}\n",
    "\n",
    "Company Details:\n",
    "{company_details}\n",
    "'''\n",
    "\n",
    "\n",
    "\n",
    "prompt = ChatPromptTemplate.from_template(template)\n",
    "\n",
    "\n",
    "\n",
    "chain = prompt | llm | StrOutputParser()\n",
    "\n",
    "\n",
    "def get_recommendation(text:str , org : Optional[User]):\n",
    "    result = chain.invoke({\"text\":text , \"company_details\":org}) # returns list of 3 items \n",
    "    result = result.strip()\n",
    "    if result.startswith('```python'):\n",
    "        result = result[len('```python'):].strip()\n",
    "    elif result.startswith('```'):\n",
    "        result = result[len('```'):].strip()\n",
    "    if result.endswith('```'):\n",
    "        result = result[:-3].strip()\n",
    "\n",
    "    return json.loads(result)\n",
    " \n"
   ]
  },
  {
   "cell_type": "code",
   "execution_count": 14,
   "metadata": {},
   "outputs": [],
   "source": [
    "result = get_recommendation(\"Shareholders\",org = None)"
   ]
  },
  {
   "cell_type": "code",
   "execution_count": 15,
   "metadata": {},
   "outputs": [
    {
     "data": {
      "text/plain": [
       "[\"Shareholders are a crucial component of any successful enterprise, and we understand the importance of delivering consistent value and transparent communication. Our proposed solution is designed not only to enhance operational efficiency and profitability but also to provide clear, concise reporting that keeps shareholders informed and confident in the company's direction. We believe that by implementing these strategies, we can foster a stronger relationship between the company and its shareholders, leading to increased investment and long-term stability. This approach prioritizes sustainable growth and responsible governance, ensuring that the interests of all stakeholders are aligned. Furthermore, our team is committed to providing ongoing support and guidance to ensure a smooth transition and continued success in achieving these objectives, ultimately maximizing shareholder value.\",\n",
       " 'Shareholders expect a return on their investment, and our proposal directly addresses this expectation through strategic initiatives designed to increase revenue and reduce costs. We will implement a comprehensive performance monitoring system that provides real-time insights into key performance indicators, allowing for proactive adjustments and informed decision-making. This data-driven approach will enable us to identify areas for improvement and optimize resource allocation, maximizing profitability and shareholder returns. We are confident that our expertise and proven track record in delivering tangible results will make a significant positive impact on shareholder value. Our commitment extends beyond mere financial gains; we also prioritize ethical business practices and sustainable growth to ensure long-term shareholder confidence and support.',\n",
       " \"Shareholders place their trust in the leadership and strategic direction of the company, and we are dedicated to providing a solution that reinforces that trust through demonstrable results and transparent communication. Our proposed plan includes a detailed roadmap with clear milestones and measurable outcomes, ensuring accountability and progress tracking. We will work closely with your team to implement these strategies effectively and efficiently, providing regular updates and addressing any concerns promptly. We believe that our collaborative approach and commitment to excellence will not only meet but exceed shareholder expectations. By focusing on innovation, efficiency, and sustainable growth, we aim to create a long-term positive impact on shareholder value and solidify their confidence in the company's future prospects.\"]"
      ]
     },
     "execution_count": 15,
     "metadata": {},
     "output_type": "execute_result"
    }
   ],
   "source": [
    "result"
   ]
  },
  {
   "cell_type": "code",
   "execution_count": null,
   "metadata": {},
   "outputs": [
    {
     "name": "stdout",
     "output_type": "stream",
     "text": [
      "In backend ['https://www.iiitkota.ac.in/', 'https://tpcell.iiitkota.ac.in/', 'https://iiitkota.ac.in/department']\n"
     ]
    },
    {
     "data": {
      "text/plain": [
       "['https://www.iiitkota.ac.in/',\n",
       " 'https://tpcell.iiitkota.ac.in/',\n",
       " 'https://iiitkota.ac.in/department']"
      ]
     },
     "execution_count": 1,
     "metadata": {},
     "output_type": "execute_result"
    }
   ],
   "source": [
    "from SearchAndRecommendation.url_recommendation.url_utils import get_urls\n",
    "\n",
    "await get_urls(\"IIIT KOTA\")"
   ]
  },
  {
   "cell_type": "code",
   "execution_count": 3,
   "metadata": {},
   "outputs": [
    {
     "name": "stdout",
     "output_type": "stream",
     "text": [
      "In backend ['https://growthsutras.com/', 'https://www.growsutra.com/', 'https://www.pensutra.com/']\n"
     ]
    }
   ],
   "source": [
    "from SearchAndRecommendation.url_recommendation.url_utils import get_urls_from_company_name\n",
    "\n",
    "result = await get_urls_from_company_name(\"Growth sutra\")"
   ]
  },
  {
   "cell_type": "code",
   "execution_count": 6,
   "metadata": {},
   "outputs": [
    {
     "data": {
      "text/plain": [
       "['https://growthsutras.com/',\n",
       " 'https://www.growsutra.com/',\n",
       " 'https://www.sutra.hr/']"
      ]
     },
     "execution_count": 6,
     "metadata": {},
     "output_type": "execute_result"
    }
   ],
   "source": [
    "result"
   ]
  },
  {
   "cell_type": "code",
   "execution_count": 1,
   "metadata": {},
   "outputs": [
    {
     "ename": "ModuleNotFoundError",
     "evalue": "No module named 'chains'",
     "output_type": "error",
     "traceback": [
      "\u001b[0;31m---------------------------------------------------------------------------\u001b[0m",
      "\u001b[0;31mModuleNotFoundError\u001b[0m                       Traceback (most recent call last)",
      "Cell \u001b[0;32mIn[1], line 1\u001b[0m\n\u001b[0;32m----> 1\u001b[0m \u001b[38;5;28;01mfrom\u001b[39;00m\u001b[38;5;250m \u001b[39m\u001b[38;5;21;01mSearchAndRecommendation\u001b[39;00m\u001b[38;5;21;01m.\u001b[39;00m\u001b[38;5;21;01mprompt_suggestion\u001b[39;00m\u001b[38;5;21;01m.\u001b[39;00m\u001b[38;5;21;01mrecommend\u001b[39;00m\u001b[38;5;250m \u001b[39m\u001b[38;5;28;01mimport\u001b[39;00m get_recommendation\n\u001b[1;32m      3\u001b[0m get_recommendation(\u001b[38;5;124m\"\u001b[39m\u001b[38;5;124mShareholders are very\u001b[39m\u001b[38;5;124m\"\u001b[39m)\n",
      "File \u001b[0;32m~/Gen-ai/Growth/SearchAndRecommendation/prompt_suggestion/recommend.py:5\u001b[0m\n\u001b[1;32m      3\u001b[0m \u001b[38;5;28;01mfrom\u001b[39;00m\u001b[38;5;250m \u001b[39m\u001b[38;5;21;01mtyping\u001b[39;00m\u001b[38;5;250m \u001b[39m\u001b[38;5;28;01mimport\u001b[39;00m Optional\n\u001b[1;32m      4\u001b[0m \u001b[38;5;28;01mimport\u001b[39;00m\u001b[38;5;250m \u001b[39m\u001b[38;5;21;01mjson\u001b[39;00m\n\u001b[0;32m----> 5\u001b[0m \u001b[38;5;28;01mfrom\u001b[39;00m\u001b[38;5;250m \u001b[39m\u001b[38;5;21;01mchains\u001b[39;00m\u001b[38;5;250m \u001b[39m\u001b[38;5;28;01mimport\u001b[39;00m chain\n\u001b[1;32m      8\u001b[0m \u001b[38;5;28;01mdef\u001b[39;00m\u001b[38;5;250m \u001b[39m\u001b[38;5;21mget_recommendation\u001b[39m(text:\u001b[38;5;28mstr\u001b[39m , org : Optional[User]):\n\u001b[1;32m      9\u001b[0m     result \u001b[38;5;241m=\u001b[39m chain\u001b[38;5;241m.\u001b[39minvoke({\u001b[38;5;124m\"\u001b[39m\u001b[38;5;124mtext\u001b[39m\u001b[38;5;124m\"\u001b[39m:text , \u001b[38;5;124m\"\u001b[39m\u001b[38;5;124mcompany_details\u001b[39m\u001b[38;5;124m\"\u001b[39m:org}) \u001b[38;5;66;03m# returns list of 3 items \u001b[39;00m\n",
      "\u001b[0;31mModuleNotFoundError\u001b[0m: No module named 'chains'"
     ]
    }
   ],
   "source": [
    "from SearchAndRecommendation.prompt_suggestion.recommend import get_recommendation\n",
    "\n",
    "get_recommendation(\"Shareholders are very\")"
   ]
  },
  {
   "cell_type": "code",
   "execution_count": 1,
   "metadata": {},
   "outputs": [
    {
     "data": {
      "text/html": [
       "<pre style=\"white-space:pre;overflow-x:auto;line-height:normal;font-family:Menlo,'DejaVu Sans Mono',consolas,'Courier New',monospace\"><span style=\"color: #008080; text-decoration-color: #008080; font-weight: bold\">[</span><span style=\"color: #008080; text-decoration-color: #008080\">INIT</span><span style=\"color: #008080; text-decoration-color: #008080; font-weight: bold\">]</span><span style=\"color: #008080; text-decoration-color: #008080\">.... → Crawl4AI </span><span style=\"color: #008080; text-decoration-color: #008080; font-weight: bold\">0.6</span><span style=\"color: #008080; text-decoration-color: #008080\">.</span><span style=\"color: #008080; text-decoration-color: #008080; font-weight: bold\">3</span><span style=\"color: #008080; text-decoration-color: #008080\"> </span>\n",
       "</pre>\n"
      ],
      "text/plain": [
       "\u001b[1;36m[\u001b[0m\u001b[36mINIT\u001b[0m\u001b[1;36m]\u001b[0m\u001b[36m...\u001b[0m\u001b[36m. → Crawl4AI \u001b[0m\u001b[1;36m0.6\u001b[0m\u001b[36m.\u001b[0m\u001b[1;36m3\u001b[0m\u001b[36m \u001b[0m\n"
      ]
     },
     "metadata": {},
     "output_type": "display_data"
    },
    {
     "data": {
      "text/html": [
       "<pre style=\"white-space:pre;overflow-x:auto;line-height:normal;font-family:Menlo,'DejaVu Sans Mono',consolas,'Courier New',monospace\"><span style=\"color: #008000; text-decoration-color: #008000; font-weight: bold\">[</span><span style=\"color: #008000; text-decoration-color: #008000\">FETCH</span><span style=\"color: #008000; text-decoration-color: #008000; font-weight: bold\">]</span><span style=\"color: #008000; text-decoration-color: #008000\">... ↓ </span><span style=\"color: #008000; text-decoration-color: #008000; text-decoration: underline\">https://growthsutras.com</span><span style=\"color: #008000; text-decoration-color: #008000\">                                                                             |</span>\n",
       "<span style=\"color: #008000; text-decoration-color: #008000\">✓ | ⏱: </span><span style=\"color: #008000; text-decoration-color: #008000; font-weight: bold\">2.</span><span style=\"color: #008000; text-decoration-color: #008000\">47s </span>\n",
       "</pre>\n"
      ],
      "text/plain": [
       "\u001b[1;32m[\u001b[0m\u001b[32mFETCH\u001b[0m\u001b[1;32m]\u001b[0m\u001b[32m...\u001b[0m\u001b[32m ↓ \u001b[0m\u001b[4;32mhttps://growthsutras.com\u001b[0m\u001b[32m                                                                             |\u001b[0m\n",
       "\u001b[32m✓\u001b[0m\u001b[32m | ⏱: \u001b[0m\u001b[1;32m2.\u001b[0m\u001b[32m47s \u001b[0m\n"
      ]
     },
     "metadata": {},
     "output_type": "display_data"
    },
    {
     "data": {
      "text/html": [
       "<pre style=\"white-space:pre;overflow-x:auto;line-height:normal;font-family:Menlo,'DejaVu Sans Mono',consolas,'Courier New',monospace\"><span style=\"color: #008000; text-decoration-color: #008000; font-weight: bold\">[</span><span style=\"color: #008000; text-decoration-color: #008000\">SCRAPE</span><span style=\"color: #008000; text-decoration-color: #008000; font-weight: bold\">]</span><span style=\"color: #008000; text-decoration-color: #008000\">.. ◆ </span><span style=\"color: #008000; text-decoration-color: #008000; text-decoration: underline\">https://growthsutras.com</span><span style=\"color: #008000; text-decoration-color: #008000\">                                                                             |</span>\n",
       "<span style=\"color: #008000; text-decoration-color: #008000\">✓ | ⏱: </span><span style=\"color: #008000; text-decoration-color: #008000; font-weight: bold\">0.</span><span style=\"color: #008000; text-decoration-color: #008000\">16s </span>\n",
       "</pre>\n"
      ],
      "text/plain": [
       "\u001b[1;32m[\u001b[0m\u001b[32mSCRAPE\u001b[0m\u001b[1;32m]\u001b[0m\u001b[32m.. ◆ \u001b[0m\u001b[4;32mhttps://growthsutras.com\u001b[0m\u001b[32m                                                                             |\u001b[0m\n",
       "\u001b[32m✓\u001b[0m\u001b[32m | ⏱: \u001b[0m\u001b[1;32m0.\u001b[0m\u001b[32m16s \u001b[0m\n"
      ]
     },
     "metadata": {},
     "output_type": "display_data"
    },
    {
     "data": {
      "text/html": [
       "<pre style=\"white-space:pre;overflow-x:auto;line-height:normal;font-family:Menlo,'DejaVu Sans Mono',consolas,'Courier New',monospace\"><span style=\"color: #008080; text-decoration-color: #008080; font-weight: bold\">[</span><span style=\"color: #008080; text-decoration-color: #008080\">EXTRACT</span><span style=\"color: #008080; text-decoration-color: #008080; font-weight: bold\">]</span><span style=\"color: #008080; text-decoration-color: #008080\">. ■ Completed for </span><span style=\"color: #008080; text-decoration-color: #008080; text-decoration: underline\">https://growthsutras.com...</span><span style=\"color: #008080; text-decoration-color: #008080\"> | Time: </span><span style=\"color: #008080; text-decoration-color: #008080; font-weight: bold\">5.</span><span style=\"color: #008080; text-decoration-color: #008080\">595456843999955s </span>\n",
       "</pre>\n"
      ],
      "text/plain": [
       "\u001b[1;36m[\u001b[0m\u001b[36mEXTRACT\u001b[0m\u001b[1;36m]\u001b[0m\u001b[36m. ■ Completed for \u001b[0m\u001b[4;36mhttps://growthsutras.com...\u001b[0m\u001b[36m | Time: \u001b[0m\u001b[1;36m5.\u001b[0m\u001b[36m595456843999955s \u001b[0m\n"
      ]
     },
     "metadata": {},
     "output_type": "display_data"
    },
    {
     "data": {
      "text/html": [
       "<pre style=\"white-space:pre;overflow-x:auto;line-height:normal;font-family:Menlo,'DejaVu Sans Mono',consolas,'Courier New',monospace\"><span style=\"color: #008000; text-decoration-color: #008000; font-weight: bold\">[</span><span style=\"color: #008000; text-decoration-color: #008000\">COMPLETE</span><span style=\"color: #008000; text-decoration-color: #008000; font-weight: bold\">]</span><span style=\"color: #008000; text-decoration-color: #008000\"> ● </span><span style=\"color: #008000; text-decoration-color: #008000; text-decoration: underline\">https://growthsutras.com</span><span style=\"color: #008000; text-decoration-color: #008000\">                                                                             |</span>\n",
       "<span style=\"color: #008000; text-decoration-color: #008000\">✓ | ⏱: </span><span style=\"color: #008000; text-decoration-color: #008000; font-weight: bold\">8.</span><span style=\"color: #008000; text-decoration-color: #008000\">24s </span>\n",
       "</pre>\n"
      ],
      "text/plain": [
       "\u001b[1;32m[\u001b[0m\u001b[32mCOMPLETE\u001b[0m\u001b[1;32m]\u001b[0m\u001b[32m ● \u001b[0m\u001b[4;32mhttps://growthsutras.com\u001b[0m\u001b[32m                                                                             |\u001b[0m\n",
       "\u001b[32m✓\u001b[0m\u001b[32m | ⏱: \u001b[0m\u001b[1;32m8.\u001b[0m\u001b[32m24s \u001b[0m\n"
      ]
     },
     "metadata": {},
     "output_type": "display_data"
    },
    {
     "name": "stdout",
     "output_type": "stream",
     "text": [
      "Successfully scraped : '\n",
      "\n",
      "\n",
      " [\n",
      "    {\n",
      "        \"name\": \"GROWTHSUTRA LLP\",\n",
      "        \"logo\": null,\n",
      "        \"description\": \"The provided text does not contain a detailed description of GrowthSutra LLP.  The website focuses on services offered (Go-To-Market Partner, On-Demand CMO, Revenue Architect, XPRT Co-Pilots) and events, but lacks a dedicated 'About Us' section providing background information or company mission.\",\n",
      "        \"services\": [\n",
      "            \"Go-To-Market Partner\",\n",
      "            \"On-Demand CMO\",\n",
      "            \"Revenue Architect\",\n",
      "            \"XPRT Co-Pilots\"\n",
      "        ],\n",
      "        \"error\": false\n",
      "    },\n",
      "    {\n",
      "        \"name\": \"GrowthSutra\",\n",
      "        \"logo\": \"https://static.wixstatic.com/media/cb6b3d_5c8f2b020ebe48b69bc8c163cc480156~mv2.png/v1/fill/w_60,h_60,al_c,q_85,usm_0.66_1.00_0.01,enc_avif,quality_auto/GrowthSutra%20Logo.png\",\n",
      "        \"description\": \"At GrowthSutra, we are the go-to experts dedicated to accelerate brand and revenue growth for startups and SMBs. We provide the Fortune 500-caliber strategic thinking and flawless execution needed to gain market access, customer traction, and investor interest. Our team is comprised of seasoned marketing, communications, sales, and leadership executives, each with over 20+ years of real-world expertise launching and scaling disruptive brands across technology, e-commerce, climate, FMCG, and other major industries. We combine our team's unmatched experience with rigorous project governance and proven data-driven frameworks to get you measurable results fast. Our approach is tailored to each client's unique needs and objectives.\",\n",
      "        \"services\": [\n",
      "            \"Go-To-Market Partner\",\n",
      "            \"On-Demand CMO\",\n",
      "            \"Revenue Architect\",\n",
      "            \"XPRT Co-Pilots\",\n",
      "            \"B2B Revenue Engine Design\",\n",
      "            \"Sales Enablement Audit\",\n",
      "            \"RevenueOps Audit\"\n",
      "        ],\n",
      "        \"error\": false\n",
      "    }\n",
      "]\n",
      "🔍 Starting aggregation of users...\n",
      "name='GROWTHSUTRA LLP' logo='https://static.wixstatic.com/media/cb6b3d_5c8f2b020ebe48b69bc8c163cc480156~mv2.png/v1/fill/w_60,h_60,al_c,q_85,usm_0.66_1.00_0.01,enc_avif,quality_auto/GrowthSutra%20Logo.png' description=\"At GrowthSutra, we are the go-to experts dedicated to accelerate brand and revenue growth for startups and SMBs. We provide the Fortune 500-caliber strategic thinking and flawless execution needed to gain market access, customer traction, and investor interest. Our team is comprised of seasoned marketing, communications, sales, and leadership executives, each with over 20+ years of real-world expertise launching and scaling disruptive brands across technology, e-commerce, climate, FMCG, and other major industries. We combine our team's unmatched experience with rigorous project governance and proven data-driven frameworks to get you measurable results fast. Our approach is tailored to each client's unique needs and objectives.\" services=['Go-To-Market Partner', 'On-Demand CMO', 'Revenue Architect', 'XPRT Co-Pilots', 'B2B Revenue Engine Design', 'Sales Enablement Audit', 'RevenueOps Audit']\n",
      "🔍 Starting aggregation of users...\n"
     ]
    }
   ],
   "source": [
    "from WebScraper.scrape import get_data\n",
    "\n",
    "result = await get_data(\"https://growthsutras.com\")"
   ]
  },
  {
   "cell_type": "code",
   "execution_count": 2,
   "metadata": {},
   "outputs": [
    {
     "data": {
      "text/plain": [
       "User(name='GROWTHSUTRA LLP', logo='https://static.wixstatic.com/media/cb6b3d_5c8f2b020ebe48b69bc8c163cc480156~mv2.png/v1/fill/w_60,h_60,al_c,q_85,usm_0.66_1.00_0.01,enc_avif,quality_auto/GrowthSutra%20Logo.png', description=\"At GrowthSutra, we are the go-to experts dedicated to accelerate brand and revenue growth for startups and SMBs. We provide the Fortune 500-caliber strategic thinking and flawless execution needed to gain market access, customer traction, and investor interest. Our team is comprised of seasoned marketing, communications, sales, and leadership executives, each with over 20+ years of real-world expertise launching and scaling disruptive brands across technology, e-commerce, climate, FMCG, and other major industries. We combine our team's unmatched experience with rigorous project governance and proven data-driven frameworks to get you measurable results fast. Our approach is tailored to each client's unique needs and objectives.\", services=['Go-To-Market Partner', 'On-Demand CMO', 'Revenue Architect', 'XPRT Co-Pilots', 'B2B Revenue Engine Design', 'Sales Enablement Audit', 'RevenueOps Audit'])"
      ]
     },
     "execution_count": 2,
     "metadata": {},
     "output_type": "execute_result"
    }
   ],
   "source": [
    "result"
   ]
  },
  {
   "cell_type": "code",
   "execution_count": 1,
   "metadata": {},
   "outputs": [],
   "source": [
    "with open(\"requirements.txt\", \"r\") as f:\n",
    "    lines = f.readlines()\n",
    "\n",
    "with open(\"clean_requirements.txt\", \"w\") as f:\n",
    "    for line in lines:\n",
    "        if \"@\" not in line:\n",
    "            f.write(line)\n"
   ]
  },
  {
   "cell_type": "code",
   "execution_count": 3,
   "metadata": {},
   "outputs": [],
   "source": [
    "from serpapi import GoogleSearch # type: ignore\n",
    "import os \n",
    "from dotenv import load_dotenv\n",
    "load_dotenv()\n",
    "\n",
    "SERP = os.getenv('SERPAPI_API_KEY')\n",
    "\n",
    "def geturls(name):\n",
    "    params = {\n",
    "        \"engine\": \"google\",\n",
    "        \"q\":f\"Get the urls like official link of the webiste of the organization {name}\", \n",
    "        \"api_key\": SERP,    # your SerpAPI key as a string or env var\n",
    "        \"num\": 5           # get top 5 results\n",
    "    }\n",
    "\n",
    "    search = GoogleSearch(params)\n",
    "    results = search.get_dict()\n",
    "\n",
    "    return results\n",
    "\n",
    "\n",
    "\n"
   ]
  },
  {
   "cell_type": "code",
   "execution_count": null,
   "metadata": {},
   "outputs": [
    {
     "data": {
      "text/plain": [
       "<function dict.keys()>"
      ]
     },
     "execution_count": 1,
     "metadata": {},
     "output_type": "execute_result"
    }
   ],
   "source": [
    "a = {'a':1,'b':2}\n",
    "a."
   ]
  },
  {
   "cell_type": "code",
   "execution_count": 2,
   "metadata": {},
   "outputs": [
    {
     "name": "stdout",
     "output_type": "stream",
     "text": [
      "[\n",
      "\"https://www.growthsutras.com/\",\n",
      "\"https://sutramgmt.com/\",\n",
      "\"https://www.itsutra.com/\",\n",
      "\"https://sutra.co/\",\n",
      "\"https://www.growthsutras.com/team\",\n",
      "\"https://www.growthsutras.com/contact\",\n",
      "\"https://sutramgmt.com/contact\"\n",
      "]\n",
      "5.81877199988412\n"
     ]
    }
   ],
   "source": [
    "import timeit\n",
    "from SearchAndRecommendation.websiterecommendation.url_utils import get_urls\n",
    "start = timeit.timeit()\n",
    "result = await get_urls(\"Growth sutra\")\n",
    "end = timeit.timeit()\n",
    "print(end*1000-start*1000)"
   ]
  },
  {
   "cell_type": "code",
   "execution_count": 7,
   "metadata": {},
   "outputs": [
    {
     "name": "stdout",
     "output_type": "stream",
     "text": [
      "-0.005855645000337972\n"
     ]
    }
   ],
   "source": [
    "import timeit \n",
    "\n",
    "\n",
    "start = timeit.timeit()\n",
    "result = geturls(\"Growth sutra\")\n",
    "end = timeit.timeit()\n",
    "print(end-start)"
   ]
  },
  {
   "cell_type": "code",
   "execution_count": null,
   "metadata": {},
   "outputs": [],
   "source": []
  }
 ],
 "metadata": {
  "kernelspec": {
   "display_name": "genai",
   "language": "python",
   "name": "python3"
  },
  "language_info": {
   "codemirror_mode": {
    "name": "ipython",
    "version": 3
   },
   "file_extension": ".py",
   "mimetype": "text/x-python",
   "name": "python",
   "nbconvert_exporter": "python",
   "pygments_lexer": "ipython3",
   "version": "3.13.2"
  }
 },
 "nbformat": 4,
 "nbformat_minor": 2
}
