{
 "cells": [
  {
   "cell_type": "code",
   "execution_count": 67,
   "metadata": {},
   "outputs": [
    {
     "data": {
      "text/plain": [
       "True"
      ]
     },
     "execution_count": 67,
     "metadata": {},
     "output_type": "execute_result"
    }
   ],
   "source": [
    "from dotenv import load_dotenv\n",
    "load_dotenv()"
   ]
  },
  {
   "cell_type": "code",
   "execution_count": 81,
   "metadata": {},
   "outputs": [],
   "source": [
    "from pydantic import BaseModel,Field\n",
    "from typing import List,Annotated,Optional\n",
    "import operator\n",
    "\n",
    "class User(BaseModel):\n",
    "    name : str = Field(description=\"name of the organziation\")\n",
    "    logo : str = Field(description=\"Logo of the given website\")\n",
    "    description : str = Field(description='A detailed description of what the organization does ')\n",
    "    services: List[str] = Field(description=\"A list of services offered by the organization on the given website\")\n",
    "\n",
    "\n",
    "class State(BaseModel):\n",
    "    buyer : Optional[User] = Field(description=' ')\n",
    "    seller :Optional[User] = Field(description=' ')\n",
    "    client_requirement: str  \n",
    "    additional_info : List[str]\n",
    "    service_dept : str\n",
    "    sections : List[str] = Field(description=\"Total sections inside the sales proposal\")\n",
    "    final_result : str = Field(description='')\n",
    "    "
   ]
  },
  {
   "cell_type": "code",
   "execution_count": 82,
   "metadata": {},
   "outputs": [],
   "source": [
    "from langchain_google_genai import ChatGoogleGenerativeAI\n",
    "llm = ChatGoogleGenerativeAI(model = 'gemini-1.5-flash')"
   ]
  },
  {
   "cell_type": "code",
   "execution_count": 83,
   "metadata": {},
   "outputs": [],
   "source": [
    "def clean_to_list(result:str) :\n",
    "    result = result.strip()\n",
    "    if result.startswith('```python'):\n",
    "        result = result[len('```python'):].strip()\n",
    "    elif result.startswith('```json'):\n",
    "        result = result[len('```json'):].strip()\n",
    "    elif result.startswith('```'):\n",
    "        result = result[len('```'):].strip()\n",
    "    if result.endswith('```'):\n",
    "        result = result[:-3].strip()\n",
    "    return result"
   ]
  },
  {
   "cell_type": "code",
   "execution_count": 84,
   "metadata": {},
   "outputs": [],
   "source": [
    "from langchain_core.prompts import ChatPromptTemplate\n",
    "from langchain_core.output_parsers import StrOutputParser\n",
    "# from ..utils import clean_to_list\n",
    "\n",
    "template = '''You are a business consultant specialized in drafting professional sales proposals.\n",
    "\n",
    "Based on the following services offered by the client, generate a list of high-level sections that should be included in a compelling business proposal. These sections should be relevant to the domain and type of services offered.\n",
    "\n",
    "### Services:\n",
    "{services}\n",
    "\n",
    "Return only a clean list of section titles, no explanations or numbering.\n",
    "'''\n",
    "prompt = ChatPromptTemplate.from_template(template)\n",
    "\n",
    "\n",
    "chain = prompt | llm | StrOutputParser()\n",
    "\n",
    "\n",
    "\n",
    "\n",
    "def create_sections(state:State):\n",
    "    result = chain.invoke({'services':state.service_dept})\n",
    "    print(result)\n",
    "    return {'sections':clean_to_list(result)}\n"
   ]
  },
  {
   "cell_type": "code",
   "execution_count": null,
   "metadata": {},
   "outputs": [],
   "source": [
    "\n"
   ]
  },
  {
   "cell_type": "code",
   "execution_count": 102,
   "metadata": {},
   "outputs": [],
   "source": [
    "from langchain.prompts import ChatPromptTemplate\n",
    "from langchain_core.output_parsers import StrOutputParser\n",
    "\n",
    "p_template = '''You are an expert business proposal writer with decades of experience crafting high-value enterprise sales proposals.\n",
    "\n",
    "Your task is to generate a deeply detailed, structured, and persuasive **Sales Proposal** for the following buyer. The proposal should be written with strategic insight, full use of available inputs, and customized as per the buyer's organization and the provided client requirements.\n",
    "\n",
    "---\n",
    "\n",
    "## 🧩 Buyer Organization Description:\n",
    "{description_b}\n",
    "\n",
    "---\n",
    "\n",
    "## 🏢 Seller Organization Description:\n",
    "{description_s}\n",
    "\n",
    "---\n",
    "\n",
    "## 📋 Client Requirements, Needs, and Context:\n",
    "{client_requirements}\n",
    "\n",
    "These may include expectations, project timelines, technical needs, business goals, constraints, or key deliverables. Every section of the proposal should reference and incorporate these points wherever relevant.\n",
    "\n",
    "---\n",
    "\n",
    "## 🏢 Target Department:\n",
    "{service_dept}\n",
    "\n",
    "Write the proposal keeping in mind this is the core department being addressed. Tailor the tone, terminology, and problem-solution framing to match this department’s priorities.\n",
    "\n",
    "---\n",
    "\n",
    "## 📚 Proposal Structure:\n",
    "You must write the full proposal using the following sections, in order. Each section should be clearly titled.\n",
    "\n",
    "{section_list}\n",
    "\n",
    "---\n",
    "\n",
    "### ✍️ Detailed Writing Guidelines:\n",
    "\n",
    "- Write **comprehensive, high-depth content** for each section, reflecting its importance. For example, “Executive Summary” and “Proposed Solution” should be longer and more detailed than “About Us” or “Terms & Conditions”.\n",
    "- Use **formal business language**, but keep it **persuasive and engaging**.\n",
    "- **Use all inputs contextually** — reference buyer’s goals, timeline, constraints, and domain (from `client_requirements`) where they naturally fit.\n",
    "- Include **metrics, technical insights, and examples** wherever appropriate.\n",
    "- Assume this is going to an executive decision-maker: be **clear, convincing, and confident**.\n",
    "- For sections like “Timeline”, “Team”, or “Implementation Plan”, be structured and precise.\n",
    "- The result must be returned as a **list of dictionaries**, one per section, in this exact format:\n",
    "  \n",
    "  ```json\n",
    "  [\n",
    "    {{\"Executive Summary\": \"Detailed content...\"}},\n",
    "    {{\"Proposed Solution\": \"Detailed content...\"}},\n",
    "    ...\n",
    "  ]\n",
    "\n",
    "'''\n",
    "\n",
    "# Set up LangChain prompt + parser\n",
    "p_prompt = ChatPromptTemplate.from_template(p_template)\n",
    "p_chain = p_prompt | llm | StrOutputParser()\n",
    "\n",
    "# Function to generate the full proposal\n",
    "def write_sales_proposal(state):\n",
    "    section_string = \"\\n\".join([f\"- {s}\" for s in state.sections])\n",
    "    client_reqs = \"\\n\".join(state.additional_info)\n",
    "\n",
    "    result = p_chain.invoke({\n",
    "        'description_s': state.seller.description,\n",
    "        'description_b': state.buyer.description,\n",
    "        'client_requirements': client_reqs,\n",
    "        'service_dept': state.service_dept,\n",
    "        'section_list': section_string\n",
    "    })\n",
    "\n",
    "    return {'final_result': result}\n"
   ]
  },
  {
   "cell_type": "code",
   "execution_count": 98,
   "metadata": {},
   "outputs": [
    {
     "data": {
      "text/plain": [
       "<langgraph.graph.state.StateGraph at 0x7ba1193ca550>"
      ]
     },
     "execution_count": 98,
     "metadata": {},
     "output_type": "execute_result"
    }
   ],
   "source": [
    "from langgraph.graph import StateGraph,START,END\n",
    "\n",
    "builder = StateGraph(State)\n",
    "builder.add_node(create_sections)\n",
    "builder.add_node(write_sales_proposal)\n",
    "\n",
    "builder.add_edge(START,'create_sections')\n",
    "builder.add_edge('create_sections','write_sales_proposal')\n",
    "builder.add_edge('write_sales_proposal',END)"
   ]
  },
  {
   "cell_type": "code",
   "execution_count": 99,
   "metadata": {},
   "outputs": [],
   "source": [
    "graph = builder.compile()"
   ]
  },
  {
   "cell_type": "code",
   "execution_count": 88,
   "metadata": {},
   "outputs": [],
   "source": [
    "buyer = User(name='GROWTHSUTRA' ,logo='https://static.wixstatic.com/media/cb6b3d_5c8f2b020ebe48b69bc8c163cc480156~mv2.png/v1/fill/w_60,h_60,al_c,q_85,usm_0.66_1.00_0.01,enc_avif,quality_auto/GrowthSutra%20Logo.png' ,description=\"At GrowthSutra, we are the go-to experts dedicated to accelerate brand and revenue growth for startups and SMBs. We provide the Fortune 500-caliber strategic thinking and flawless execution needed to gain market access, customer traction, and investor interest. Our team is comprised of seasoned marketing, communications, sales, and leadership executives, each with over 20+ years of real-world expertise launching and scaling disruptive brands across technology, e-commerce, climate, FMCG, and other major industries. We combine our team\\\\'s unmatched experience with rigorous project governance and proven data-driven frameworks to get you measurable results fast. Our approach is tailored to each client\\\\'s unique needs and objectives.\" ,services=['XPRT Co-Pilots', 'On Demand CMO', 'Ice Breakers', 'GTM Partner', 'Go-To-Market Partner', 'Revenue Architect', 'On-Demand CMO'])"
   ]
  },
  {
   "cell_type": "code",
   "execution_count": 89,
   "metadata": {},
   "outputs": [],
   "source": [
    "seller = User(name = 'TCS', logo = 'https://www.tcs.com/content/dam/global-tcs/en/images/home/tata-logo-1.svg',description= 'TCS works hand in hand with world-leading investors.', services=  ['Artificial Intelligence', 'Cloud', 'Cognitive Business Operations', 'Consulting', 'Cybersecurity', 'Data & Analytics', 'Enterprise' ])"
   ]
  },
  {
   "cell_type": "code",
   "execution_count": 90,
   "metadata": {},
   "outputs": [],
   "source": [
    "client_requirement = \"Building a website for their domain\"\n",
    "\n",
    "additonal_info = [\"This task is done in like 2 weeeks with cost of $4000 \"]\n",
    "\n",
    "service_dept = 'Technology'"
   ]
  },
  {
   "cell_type": "code",
   "execution_count": 100,
   "metadata": {},
   "outputs": [],
   "source": [
    "state = State(buyer = buyer,seller = seller,client_requirement=client_requirement,additional_info=additonal_info,service_dept=service_dept,sections=[],final_result='')"
   ]
  },
  {
   "cell_type": "code",
   "execution_count": 79,
   "metadata": {},
   "outputs": [
    {
     "name": "stdout",
     "output_type": "stream",
     "text": [
      "Executive Summary\n",
      "Introduction to [Client Company Name]\n",
      "Understanding Your Technology Needs\n",
      "Proposed Solutions\n",
      "Technology Stack and Architecture\n",
      "Implementation Plan\n",
      "Project Timeline and Milestones\n",
      "Pricing and Payment Terms\n",
      "Service Level Agreements (SLAs)\n",
      "Maintenance and Support\n",
      "Case Studies/Success Stories\n",
      "Team Expertise\n",
      "Client Testimonials\n",
      "Call to Action\n",
      "Appendix (Optional)\n"
     ]
    },
    {
     "data": {
      "text/plain": [
       "{'sections': 'Executive Summary\\nIntroduction to [Client Company Name]\\nUnderstanding Your Technology Needs\\nProposed Solutions\\nTechnology Stack and Architecture\\nImplementation Plan\\nProject Timeline and Milestones\\nPricing and Payment Terms\\nService Level Agreements (SLAs)\\nMaintenance and Support\\nCase Studies/Success Stories\\nTeam Expertise\\nClient Testimonials\\nCall to Action\\nAppendix (Optional)'}"
      ]
     },
     "execution_count": 79,
     "metadata": {},
     "output_type": "execute_result"
    }
   ],
   "source": [
    "create_sections(state)"
   ]
  },
  {
   "cell_type": "code",
   "execution_count": 103,
   "metadata": {},
   "outputs": [
    {
     "name": "stdout",
     "output_type": "stream",
     "text": [
      "Executive Summary\n",
      "Introduction to [Client Company Name]\n",
      "Understanding Your Technology Needs\n",
      "Proposed Solutions and Technologies\n",
      "Implementation Plan & Timeline\n",
      "Project Team & Expertise\n",
      "Pricing and Payment Terms\n",
      "Case Studies & Success Stories\n",
      "Security and Compliance\n",
      "Maintenance and Support\n",
      "Next Steps & Call to Action\n",
      "Appendix (Optional)\n"
     ]
    }
   ],
   "source": [
    "state = graph.invoke(state)"
   ]
  },
  {
   "cell_type": "code",
   "execution_count": 104,
   "metadata": {},
   "outputs": [
    {
     "name": "stdout",
     "output_type": "stream",
     "text": [
      "```json\n",
      "[\n",
      "  {\n",
      "    \"Executive Summary\": \"GrowthSutra, a leading brand and revenue growth accelerator for startups and SMBs, requires a robust technological solution to enhance its operational efficiency and data-driven decision-making.  This proposal outlines a tailored solution from TCS, delivered within two weeks at a cost of $4,000, focusing on enhancing GrowthSutra's technology infrastructure to support its rapid growth trajectory.  Our solution leverages TCS's expertise in working with world-leading investors to provide scalable and reliable technology, enabling GrowthSutra to maintain its high standard of Fortune 500-caliber strategic thinking and flawless execution. This proposal details the specific technological needs, the proposed solution, implementation plan, and the expert team dedicated to this project.\"\n",
      "  },\n",
      "  {\n",
      "    \"Introduction to GrowthSutra\": \"GrowthSutra is a dynamic organization specializing in accelerating brand and revenue growth for startups and SMBs.  Their proven track record of success across diverse industries, coupled with their team of seasoned executives, positions them as a leader in their field.  However, to maintain this momentum and scale their operations effectively, GrowthSutra requires a technology upgrade to streamline internal processes, improve data analysis capabilities, and enhance client communication. This proposal addresses these specific needs, focusing on providing a scalable and reliable technological solution that supports GrowthSutra's ambitious growth plans. The two-week timeline and $4,000 budget constraint will be carefully considered in the design and implementation of this solution.\"\n",
      "  },\n",
      "  {\n",
      "    \"Understanding Your Technology Needs\": \"GrowthSutra's technology needs are multifaceted, stemming from the demands of managing multiple client projects concurrently, analyzing large datasets for data-driven decision-making, and maintaining efficient internal communication.  We understand the need for a solution that is both scalable and adaptable to GrowthSutra's evolving requirements. Key areas requiring attention include: \\n\\n* **Data Management & Analytics:**  A centralized system to consolidate client data, track key performance indicators (KPIs), and generate insightful reports for clients and internal stakeholders.  This will improve the efficiency of data analysis and reporting, directly impacting project delivery and client satisfaction. \\n* **Project Management Software:**  A robust platform to manage projects, track timelines, allocate resources, and ensure seamless collaboration within GrowthSutra's team and with clients. This will improve project governance and allow for more efficient workflow management. \\n* **Client Communication & Collaboration Tools:**  Integrated communication platforms to streamline interactions with clients, share project updates, and manage feedback effectively.  This ensures transparency and promotes client satisfaction. \\n* **Scalability and Security:**  The solution must be scalable to accommodate GrowthSutra's anticipated growth, while also prioritizing data security and compliance with industry best practices.\"\n",
      "  },\n",
      "  {\n",
      "    \"Proposed Solutions and Technologies\": \"To address GrowthSutra's specific technological needs, TCS proposes a comprehensive solution encompassing the following key components:\\n\\n* **Cloud-based Data Warehouse:**  Implementing a cloud-based data warehouse (e.g., Snowflake, Google BigQuery) to centralize and consolidate client data, enabling efficient data analysis and reporting. This provides scalability and flexibility to handle growing data volumes.  \\n* **Project Management Software Integration:**  Integrating a project management platform (e.g., Asana, Monday.com) with the data warehouse to track project progress, resource allocation, and KPIs in real-time. This ensures seamless project management and enhances transparency. \\n* **Secure Communication Platform:**  Utilizing a secure communication platform (e.g., Slack, Microsoft Teams) with integrated file sharing and video conferencing capabilities to streamline client communication and collaboration. This improves efficiency and transparency in client interactions.  \\n* **Custom API Development (if needed):**  If required by the integration of chosen platforms, we will develop custom APIs to ensure seamless data flow and communication between different systems.  This will be assessed during the initial consultation phase.\\n\\nThis integrated solution will provide a centralized, secure, and scalable platform to manage projects, analyze data, and communicate with clients effectively, aligning directly with GrowthSutra's requirements and the two-week timeframe.\"\n",
      "  },\n",
      "  {\n",
      "    \"Implementation Plan & Timeline\": \"The project will be completed within two weeks, adhering strictly to the agreed-upon timeline. The implementation will follow these key phases:\\n\\n* **Phase 1 (Days 1-3):** Requirements gathering and system configuration. This involves detailed discussions with GrowthSutra’s technology team to finalize the specific needs and configure the chosen platforms. \\n* **Phase 2 (Days 4-7):** Data migration and integration.  This involves migrating existing data into the new system and integrating various platforms to ensure seamless data flow. \\n* **Phase 3 (Days 8-10):** System testing and user training.  This includes rigorous testing to ensure system stability and functionality, followed by training for GrowthSutra’s team on using the new platforms. \\n* **Phase 4 (Days 11-14):** Go-live and ongoing support.  This involves launching the new system and providing ongoing support to ensure smooth operation and address any unforeseen issues.  A post-implementation review will be conducted to gather feedback and ensure client satisfaction.\"\n",
      "  },\n",
      "  {\n",
      "    \"Project Team & Expertise\": \"TCS will assign a dedicated project team comprised of experienced technology consultants with proven expertise in data warehousing, project management software integration, and secure communication platform implementation. The team will be led by [Team Lead Name and Title], a seasoned professional with over [Number] years of experience in delivering similar solutions to clients in the startup and SMB sectors.  The team's expertise ensures that the project is delivered on time, within budget, and meets GrowthSutra's expectations. Their deep understanding of the challenges faced by rapidly growing companies will be invaluable in tailoring the solution specifically to GrowthSutra's needs.\"\n",
      "  },\n",
      "  {\n",
      "    \"Pricing and Payment Terms\": \"The total cost for this project is $4,000. Payment will be made in two installments: 50% upon project commencement and 50% upon successful completion and client acceptance of the delivered solution.  A detailed breakdown of costs will be provided upon request.  This pricing reflects the streamlined approach, the two-week timeline, and the focused scope of work outlined in this proposal.\"\n",
      "  },\n",
      "  {\n",
      "    \"Case Studies and Success Stories\": \"TCS has a long and successful history of delivering technology solutions to clients in the startup and SMB sectors.  We have successfully implemented similar solutions for [Client Name 1] and [Client Name 2], resulting in significant improvements in their operational efficiency and data-driven decision-making.  Case studies detailing these successes are available upon request.  These examples demonstrate our ability to deliver high-quality solutions that meet the specific needs of our clients, even under tight deadlines.\"\n",
      "  },\n",
      "  {\n",
      "    \"Security and Compliance\": \"Data security and compliance are paramount. TCS adheres to the highest industry standards for data security and privacy. Our solution will incorporate robust security measures to protect GrowthSutra's sensitive data, ensuring compliance with all relevant regulations.  We will provide a detailed security plan outlining the specific measures implemented to safeguard GrowthSutra's information.\"\n",
      "  },\n",
      "  {\n",
      "    \"Maintenance and Support\": \"Post-implementation, TCS offers ongoing maintenance and support to ensure the continued smooth operation of the implemented system.  This includes regular system checks, addressing any technical issues, and providing training for new team members.  Different levels of support can be tailored to GrowthSutra's specific needs and budget, ensuring long-term system health and reliability.\"\n",
      "  },\n",
      "  {\n",
      "    \"Next Steps and Call to Action\": \"We are confident that TCS's proposed solution will significantly enhance GrowthSutra's technological capabilities, supporting its ambitious growth plans.  We encourage you to schedule a call to discuss this proposal further and answer any questions you may have.  We are eager to partner with GrowthSutra and contribute to its continued success. Please contact [Contact Name and Contact Information] to schedule a meeting.\"\n",
      "  },\n",
      "  {\n",
      "    \"Appendix (Optional)\": \"This section may include additional supporting documents, such as detailed technical specifications, case studies, client testimonials, or team member biographies.\"\n",
      "  }\n",
      "]\n",
      "```\n"
     ]
    }
   ],
   "source": [
    "print(state['final_result'])"
   ]
  },
  {
   "cell_type": "code",
   "execution_count": null,
   "metadata": {},
   "outputs": [],
   "source": []
  }
 ],
 "metadata": {
  "kernelspec": {
   "display_name": "genai",
   "language": "python",
   "name": "python3"
  },
  "language_info": {
   "codemirror_mode": {
    "name": "ipython",
    "version": 3
   },
   "file_extension": ".py",
   "mimetype": "text/x-python",
   "name": "python",
   "nbconvert_exporter": "python",
   "pygments_lexer": "ipython3",
   "version": "3.13.2"
  }
 },
 "nbformat": 4,
 "nbformat_minor": 2
}
