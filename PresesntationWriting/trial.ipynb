{
 "cells": [
  {
   "cell_type": "code",
   "execution_count": 2,
   "metadata": {},
   "outputs": [
    {
     "data": {
      "text/plain": [
       "True"
      ]
     },
     "execution_count": 2,
     "metadata": {},
     "output_type": "execute_result"
    }
   ],
   "source": [
    "from dotenv import load_dotenv\n",
    "load_dotenv()"
   ]
  },
  {
   "cell_type": "code",
   "execution_count": 3,
   "metadata": {},
   "outputs": [],
   "source": [
    "from pydantic import BaseModel,Field\n",
    "from typing import List,Annotated,Optional\n",
    "import operator\n",
    "\n",
    "class User(BaseModel):\n",
    "    name : str = Field(description=\"name of the organziation\")\n",
    "    logo : str = Field(description=\"Logo of the given website\")\n",
    "    description : str = Field(description='A detailed description of what the organization does ')\n",
    "    services: List[str] = Field(description=\"A list of services offered by the organization on the given website\")\n",
    "\n",
    "\n",
    "class State(BaseModel):\n",
    "    buyer : Optional[User] = Field(description=' ')\n",
    "    seller :Optional[User] = Field(description=' ')\n",
    "    client_requirement: str  \n",
    "    additional_info : List[str]\n",
    "    service_dept : str\n",
    "    sections : List[str] = Field(description=\"Total sections inside the sales proposal\")\n",
    "    final_result : str = Field(description='')\n",
    "    "
   ]
  },
  {
   "cell_type": "code",
   "execution_count": 4,
   "metadata": {},
   "outputs": [],
   "source": [
    "from langchain_google_genai import ChatGoogleGenerativeAI\n",
    "llm = ChatGoogleGenerativeAI(model = 'gemini-1.5-flash')"
   ]
  },
  {
   "cell_type": "code",
   "execution_count": 5,
   "metadata": {},
   "outputs": [],
   "source": [
    "def clean_to_list(result:str) :\n",
    "    result = result.strip()\n",
    "    if result.startswith('```python'):\n",
    "        result = result[len('```python'):].strip()\n",
    "    elif result.startswith('```json'):\n",
    "        result = result[len('```json'):].strip()\n",
    "    elif result.startswith('```'):\n",
    "        result = result[len('```'):].strip()\n",
    "    if result.endswith('```'):\n",
    "        result = result[:-3].strip()\n",
    "    return result"
   ]
  },
  {
   "cell_type": "code",
   "execution_count": 6,
   "metadata": {},
   "outputs": [],
   "source": [
    "from langchain_core.prompts import ChatPromptTemplate\n",
    "from langchain_core.output_parsers import StrOutputParser\n",
    "# from ..utils import clean_to_list\n",
    "\n",
    "template = '''You are a business consultant specialized in drafting professional sales proposals.\n",
    "\n",
    "Based on the following services offered by the client, generate a list of high-level sections that should be included in a compelling business proposal. These sections should be relevant to the domain and type of services offered.\n",
    "\n",
    "### Services:\n",
    "{services}\n",
    "\n",
    "Return only a clean list of section titles, no explanations or numbering.\n",
    "\n",
    "IMPORTANT :\n",
    "Dont put too much sections just include the important ones like the most necessary and not to forget Scope of work / Project breakdown \n",
    "'''\n",
    "prompt = ChatPromptTemplate.from_template(template)\n",
    "\n",
    "\n",
    "chain = prompt | llm | StrOutputParser()\n",
    "\n",
    "\n",
    "\n",
    "\n",
    "def create_sections(state:State):\n",
    "    result = chain.invoke({'services':state.service_dept})\n",
    "    p = clean_to_list(result)\n",
    "    return {'sections':[\"Title of the sales proposal\"]+p.split('\\n')}\n"
   ]
  },
  {
   "cell_type": "code",
   "execution_count": 7,
   "metadata": {},
   "outputs": [
    {
     "data": {
      "text/plain": [
       "['Executive Summary',\n",
       " 'Introduction',\n",
       " 'Our Approach',\n",
       " 'Technology Solutions',\n",
       " 'Scope of Work / Project Breakdown',\n",
       " 'Timeline & Milestones',\n",
       " 'Pricing & Payment Terms',\n",
       " 'Client Testimonials/Case Studies',\n",
       " 'Next Steps/Call to Action',\n",
       " 'Appendix (Optional)']"
      ]
     },
     "execution_count": 7,
     "metadata": {},
     "output_type": "execute_result"
    }
   ],
   "source": [
    "s = 'Executive Summary\\nIntroduction\\nOur Approach\\nTechnology Solutions\\nScope of Work / Project Breakdown\\nTimeline & Milestones\\nPricing & Payment Terms\\nClient Testimonials/Case Studies\\nNext Steps/Call to Action\\nAppendix (Optional)'\n",
    "s.split('\\n')"
   ]
  },
  {
   "cell_type": "code",
   "execution_count": 8,
   "metadata": {},
   "outputs": [
    {
     "data": {
      "text/plain": [
       "[1, 2, 3, 4]"
      ]
     },
     "execution_count": 8,
     "metadata": {},
     "output_type": "execute_result"
    }
   ],
   "source": [
    "[1,2]+[3,4]"
   ]
  },
  {
   "cell_type": "code",
   "execution_count": 9,
   "metadata": {},
   "outputs": [],
   "source": [
    "from langchain.prompts import ChatPromptTemplate\n",
    "from langchain_core.output_parsers import StrOutputParser\n",
    "\n",
    "p_template = '''You are a senior enterprise consultant and proposal strategist with years of experience writing persuasive, high-quality sales proposals for B2B companies across technology, digital, and marketing domains.\n",
    "\n",
    "Your task is to generate a **structured, executive-grade Sales Proposal** based on the input below. Keep the tone professional and persuasive, suitable for leadership and decision-makers.\n",
    "\n",
    "---\n",
    "\n",
    "## 🧩 Buyer Organization:\n",
    "{description_b}\n",
    "\n",
    "## 🏢 Seller Organization:\n",
    "{description_s}\n",
    "\n",
    "## 📋 Client Requirements (Project Needs, Expectations, Goals, Constraints):\n",
    "{client_requirements}\n",
    "\n",
    "## 🎯 Target Department:\n",
    "{service_dept}\n",
    "\n",
    "---\n",
    "\n",
    "### 📄 Required Sections\n",
    "\n",
    "Use the following sections in this exact order. Do **not create new sections**, and **do not rename them**. Keep most sections **concise (2–4 paragraphs)** but make **“Scope of Work” very detailed** with structured breakdowns.\n",
    "\n",
    "{section_list}\n",
    "\n",
    "At the end, always include:\n",
    "- **Who We Are**\n",
    "- **What We Do**\n",
    "\n",
    "---\n",
    "\n",
    "### 🛠️ Special Instructions for “Scope of Work”\n",
    "\n",
    "This section must be written in **detailed breakdown format**.\n",
    "\n",
    "- Use clear subheaders or bullet points for each phase or deliverable.\n",
    "- Elaborate tasks clearly using context from additional informtation\n",
    "-----------\n",
    "{additional_info}.\n",
    "----------------\n",
    "IMPORTANT : If there is no breakdown of the task then breakdown yourself and then explain each phase with atleast 4-5 bullet points\n",
    "and if there is breakdown then do try to utilize info and still write 4-5 points properly\n",
    "- Example format:\n",
    "\n",
    "Discovery & Planning (Week 1–2)\n",
    "\n",
    "Conduct kickoff with buyer team to gather expectations\n",
    "\n",
    "Create user journeys and goal mapping\n",
    "\n",
    "Perform competitive audit for design inspiration and SEO alignment\n",
    "\n",
    "UI/UX Design (Week 3–4)\n",
    "\n",
    "Wireframes for key pages\n",
    "\n",
    "Brand-aligned visual mockups with review cycles\n",
    "\n",
    "Frontend Development (Week 5–7)\n",
    "\n",
    "Responsive development using Bootstrap\n",
    "\n",
    "Animations, product pages, and forms\n",
    "\n",
    "\n",
    "\n",
    "Use **phase-wise structuring** like Discovery, Design, Development, Launch, SEO, etc., and explain each step in business-impact terms — showing **how it contributes to client goals**.\n",
    "\n",
    "---\n",
    "\n",
    "### ✍️ Writing Style & Examples\n",
    "\n",
    "Follow these guidelines:\n",
    "\n",
    "- ✅ Use a **professional, business-friendly tone** suitable for executive audiences.\n",
    "- ✅ Write **2–4 paragraphs per section** — detailed, but not bloated.\n",
    "- ✅ Use bullet points where appropriate (for Deliverables, Timelines, Fee Structure).\n",
    "- ✅ Integrate `{client_requirements}` contextually — refer to business goals, constraints, project scope, and domain.\n",
    "- ✅ Emphasize **value, clarity, and confidence** — this is a persuasive sales proposal.\n",
    "\n",
    "---\n",
    "\n",
    "### 📤 Output Format\n",
    "\n",
    "Return the final result as a list of dictionaries, each with `\"title\"` and `\"text\"` fields, in **valid JSON-like format**:\n",
    "\n",
    "```json\n",
    "[ {{\"title\":\"Title of the proposal\",\"text\":\"...\"}}\n",
    "  {{\"title\": \"Executive Summary\", \"text\": \"...\"}},\n",
    "  {{\"title\": \"Scope of Work\", \"text\": \"...\"}},\n",
    "  ...\n",
    "  {{\"title\": \"Who We Are\", \"text\": \"...\"}},\n",
    "  {{\"title\": \"What We Do\", \"text\": \"...\"}}\n",
    "]\n",
    "\n",
    "'''\n",
    "\n",
    "# Set up LangChain prompt + parser\n",
    "p_prompt = ChatPromptTemplate.from_template(p_template)\n",
    "p_chain = p_prompt | llm | StrOutputParser()\n",
    "\n",
    "# Function to generate the full proposal\n",
    "def write_sales_proposal(state):\n",
    "    section_string = \"\\n\".join([f\"- {s}\" for s in state.sections])\n",
    "    client_reqs = \"\\n\".join(state.additional_info)\n",
    "\n",
    "    result = p_chain.invoke({\n",
    "        'description_s': state.seller.description,\n",
    "        'description_b': state.buyer.description,\n",
    "        'client_requirements': client_reqs,\n",
    "        'service_dept': state.service_dept,\n",
    "        'section_list': section_string,\n",
    "        'additional_info':state.additional_info\n",
    "    })\n",
    "\n",
    "    return {'final_result': result}\n"
   ]
  },
  {
   "cell_type": "code",
   "execution_count": 10,
   "metadata": {},
   "outputs": [],
   "source": [
    "buyer = User(name='GROWTHSUTRA' ,logo='https://static.wixstatic.com/media/cb6b3d_5c8f2b020ebe48b69bc8c163cc480156~mv2.png/v1/fill/w_60,h_60,al_c,q_85,usm_0.66_1.00_0.01,enc_avif,quality_auto/GrowthSutra%20Logo.png' ,description=\"At GrowthSutra, we are the go-to experts dedicated to accelerate brand and revenue growth for startups and SMBs. We provide the Fortune 500-caliber strategic thinking and flawless execution needed to gain market access, customer traction, and investor interest. Our team is comprised of seasoned marketing, communications, sales, and leadership executives, each with over 20+ years of real-world expertise launching and scaling disruptive brands across technology, e-commerce, climate, FMCG, and other major industries. We combine our team\\\\'s unmatched experience with rigorous project governance and proven data-driven frameworks to get you measurable results fast. Our approach is tailored to each client\\\\'s unique needs and objectives.\" ,services=['XPRT Co-Pilots', 'On Demand CMO', 'Ice Breakers', 'GTM Partner', 'Go-To-Market Partner', 'Revenue Architect', 'On-Demand CMO'])"
   ]
  },
  {
   "cell_type": "code",
   "execution_count": 11,
   "metadata": {},
   "outputs": [
    {
     "data": {
      "text/plain": [
       "'https://static.wixstatic.com/media/cb6b3d_5c8f2b020ebe48b69bc8c163cc480156~mv2.png/v1/fill/w_60,h_60,al_c,q_85,usm_0.66_1.00_0.01,enc_avif,quality_auto/GrowthSutra%20Logo.png'"
      ]
     },
     "execution_count": 11,
     "metadata": {},
     "output_type": "execute_result"
    }
   ],
   "source": [
    "buyer.logo"
   ]
  },
  {
   "cell_type": "code",
   "execution_count": 12,
   "metadata": {},
   "outputs": [],
   "source": [
    "seller = User(name = 'TCS', logo = 'https://www.tcs.com/content/dam/global-tcs/en/images/home/tata-logo-1.svg',description= 'TCS works hand in hand with world-leading investors.', services=  ['Artificial Intelligence', 'Cloud', 'Cognitive Business Operations', 'Consulting', 'Cybersecurity', 'Data & Analytics', 'Enterprise' ])"
   ]
  },
  {
   "cell_type": "code",
   "execution_count": null,
   "metadata": {},
   "outputs": [],
   "source": [
    "client_requirement = \"Building a website for their domain\"\n",
    "\n",
    "additonal_info = [\"This task is done in like 2 weeeks with cost of $4000 \"]\n",
    "\n",
    "service_dept = 'Technology'\n",
    "state = State(buyer = seller,seller = buyer,client_requirement=client_requirement,additional_info=additonal_info,service_dept=service_dept,sections=[],final_result='')"
   ]
  },
  {
   "cell_type": "code",
   "execution_count": 14,
   "metadata": {},
   "outputs": [],
   "source": [
    "state = State(buyer = seller,seller = buyer,client_requirement=client_requirement,additional_info=additonal_info,service_dept=service_dept,sections=[],final_result='')"
   ]
  },
  {
   "cell_type": "code",
   "execution_count": 15,
   "metadata": {},
   "outputs": [],
   "source": [
    "def clean_to_list(result:str) :\n",
    "    result = result.strip()\n",
    "    if result.startswith('```python'):\n",
    "        result = result[len('```python'):].strip()\n",
    "    elif result.startswith('```json'):\n",
    "        result = result[len('```json'):].strip()\n",
    "    elif result.startswith('```'):\n",
    "        result = result[len('```'):].strip()\n",
    "    if result.endswith('```'):\n",
    "        result = result[:-3].strip()\n",
    "    return result\n",
    "\n"
   ]
  },
  {
   "cell_type": "code",
   "execution_count": 16,
   "metadata": {},
   "outputs": [],
   "source": [
    "\n",
    "# def rgb_to_hex(rgb):\n",
    "#     return '#{:02x}{:02x}{:02x}'.format(*rgb)\n",
    "\n",
    "# # Load image (from file or URL)\n",
    "# image_url = 'https://static.wixstatic.com/media/cb6b3d_5c8f2b020ebe48b69bc8c163cc480156~mv2.png/v1/fill/w_60,h_60,al_c,q_85,usm_0.66_1.00_0.01,enc_avif,quality_auto/GrowthSutra%20Logo.png'\n",
    "# response = requests.get(image_url)\n",
    "# img_file = BytesIO(response.content)\n",
    "\n",
    "# # Extract colors\n",
    "# color_thief = ColorThief(img_file)\n",
    "# palette = color_thief.get_palette(color_count=6)\n",
    "\n",
    "# # Convert to HEX\n",
    "# hex_colors = [rgb_to_hex(color) for color in palette]\n",
    "# print(hex_colors)\n"
   ]
  },
  {
   "cell_type": "code",
   "execution_count": 17,
   "metadata": {},
   "outputs": [],
   "source": [
    "import requests\n",
    "from io import BytesIO\n",
    "from colorthief import ColorThief\n",
    "\n",
    "\n",
    "def rgb_to_hex(rgb):\n",
    "    return '#{:02x}{:02x}{:02x}'.format(*rgb)\n",
    "\n",
    "def get_color_from_image(image_url):\n",
    "    response = requests.get(image_url)\n",
    "    img_file = BytesIO(response.content)\n",
    "    color_thief = ColorThief(img_file)\n",
    "    palette = color_thief.get_palette(color_count=6)\n",
    "    hex_colors = [rgb_to_hex(color) for color in palette]\n",
    "    return hex_colors\n",
    "\n",
    "\n"
   ]
  },
  {
   "cell_type": "code",
   "execution_count": 18,
   "metadata": {},
   "outputs": [],
   "source": [
    "from pres import generate_presentation\n",
    "\n",
    "def write_presesntaton(state:State):\n",
    "    colors = get_color_from_image(state.logo)\n",
    "    generate_presentation('output.txt',state.logo,colors,'pdf')\n",
    "    generate_presentation('output.txt',state.logo,colors,'html')\n",
    "    "
   ]
  },
  {
   "cell_type": "code",
   "execution_count": 19,
   "metadata": {},
   "outputs": [],
   "source": [
    "def clean_to_list(result:str) :\n",
    "    result = result.strip()\n",
    "    if result.startswith('```python'):\n",
    "        result = result[len('```python'):].strip()\n",
    "    elif result.startswith('```json'):\n",
    "        result = result[len('```json'):].strip()\n",
    "    elif result.startswith('```'):\n",
    "        result = result[len('```'):].strip()\n",
    "    if result.endswith('```'):\n",
    "        result = result[:-3].strip()\n",
    "    return result\n",
    "\n",
    "def clean_data(state:State):\n",
    "    result = clean_to_list(state.final_result)\n",
    "    with open('output.txt', 'w', encoding='utf-8') as f:\n",
    "        for entry in result:\n",
    "            f.write(f\"Title: {entry['title']}\\n\")\n",
    "            f.write(f\"Text: {entry['text']}\\n\\n\")\n",
    "        \n",
    "    "
   ]
  },
  {
   "cell_type": "code",
   "execution_count": 20,
   "metadata": {},
   "outputs": [
    {
     "data": {
      "text/plain": [
       "<langgraph.graph.state.StateGraph at 0x76f0047dd7f0>"
      ]
     },
     "execution_count": 20,
     "metadata": {},
     "output_type": "execute_result"
    }
   ],
   "source": [
    "from langgraph.graph import StateGraph,START,END\n",
    "\n",
    "builder = StateGraph(State)\n",
    "builder.add_node(create_sections)\n",
    "builder.add_node(write_sales_proposal)\n",
    "builder.add_node(clean_data)\n",
    "builder.add_node(generate_presentation)\n",
    "\n",
    "builder.add_edge(START,'create_sections')\n",
    "builder.add_edge('create_sections','write_sales_proposal')\n",
    "builder.add_edge('write_sales_proposal','clean_data')\n",
    "builder.add_edge('clean_data','generate_presentation')\n",
    "builder.add_edge('generate_presentation',END)"
   ]
  },
  {
   "cell_type": "code",
   "execution_count": 21,
   "metadata": {},
   "outputs": [],
   "source": [
    "graph = builder.compile()"
   ]
  },
  {
   "cell_type": "code",
   "execution_count": null,
   "metadata": {},
   "outputs": [],
   "source": []
  }
 ],
 "metadata": {
  "kernelspec": {
   "display_name": "adk",
   "language": "python",
   "name": "python3"
  },
  "language_info": {
   "codemirror_mode": {
    "name": "ipython",
    "version": 3
   },
   "file_extension": ".py",
   "mimetype": "text/x-python",
   "name": "python",
   "nbconvert_exporter": "python",
   "pygments_lexer": "ipython3",
   "version": "3.13.2"
  }
 },
 "nbformat": 4,
 "nbformat_minor": 2
}
