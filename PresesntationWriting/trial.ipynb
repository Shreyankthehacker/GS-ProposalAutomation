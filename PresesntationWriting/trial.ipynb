{
 "cells": [
  {
   "cell_type": "code",
   "execution_count": 1,
   "metadata": {},
   "outputs": [
    {
     "data": {
      "text/plain": [
       "True"
      ]
     },
     "execution_count": 1,
     "metadata": {},
     "output_type": "execute_result"
    }
   ],
   "source": [
    "from dotenv import load_dotenv\n",
    "load_dotenv()"
   ]
  },
  {
   "cell_type": "code",
   "execution_count": null,
   "metadata": {},
   "outputs": [],
   "source": [
    "from pydantic import BaseModel,Field\n",
    "from typing import List,Annotated,Optional\n",
    "import operator\n",
    "\n",
    "class User(BaseModel):\n",
    "    name : str = Field(description=\"name of the organziation\")\n",
    "    logo : str = Field(description=\"Logo of the given website\")\n",
    "    description : str = Field(description='A detailed description of what the organization does ')\n",
    "    services: List[str] = Field(description=\"A list of services offered by the organization on the given website\")\n",
    "\n",
    "\n",
    "class State(BaseModel):\n",
    "    buyer : Optional[User] = Field(description=' ')\n",
    "    seller :Optional[User] = Field(description=' ')\n",
    "    additional_info : List[str]\n",
    "    service_dept : str\n",
    "    sections : List[str] = Field(description=\"Total sections inside the sales proposal\")\n",
    "    final_result : Annotated[List[dict[str,str]],operator.add] = Field(description='')\n",
    "    "
   ]
  },
  {
   "cell_type": "code",
   "execution_count": 21,
   "metadata": {},
   "outputs": [],
   "source": [
    "from langchain_google_genai import ChatGoogleGenerativeAI\n",
    "llm = ChatGoogleGenerativeAI(model = 'gemini-1.5-flash')"
   ]
  },
  {
   "cell_type": "code",
   "execution_count": 22,
   "metadata": {},
   "outputs": [],
   "source": [
    "def clean_to_list(result:str) :\n",
    "    result = result.strip()\n",
    "    if result.startswith('```python'):\n",
    "        result = result[len('```python'):].strip()\n",
    "    elif result.startswith('```json'):\n",
    "        result = result[len('```json'):].strip()\n",
    "    elif result.startswith('```'):\n",
    "        result = result[len('```'):].strip()\n",
    "    if result.endswith('```'):\n",
    "        result = result[:-3].strip()\n",
    "    return result"
   ]
  },
  {
   "cell_type": "code",
   "execution_count": 31,
   "metadata": {},
   "outputs": [],
   "source": [
    "from langchain_core.prompts import ChatPromptTemplate\n",
    "from langchain_core.output_parsers import StrOutputParser\n",
    "# from ..utils import clean_to_list\n",
    "\n",
    "template = '''You are a business consultant specialized in drafting professional sales proposals.\n",
    "\n",
    "Based on the following services offered by the client, generate a list of high-level sections that should be included in a compelling business proposal. These sections should be relevant to the domain and type of services offered.\n",
    "\n",
    "### Services:\n",
    "{services}\n",
    "\n",
    "Return only a clean list of section titles, no explanations or numbering.\n",
    "'''\n",
    "prompt = ChatPromptTemplate.from_template(template)\n",
    "\n",
    "\n",
    "chain = prompt | llm | StrOutputParser()\n",
    "\n",
    "\n",
    "\n",
    "\n",
    "def create_sections(state:State):\n",
    "    result = chain.invoke({'services':state.service_dept})\n",
    "    print(result)\n",
    "    return {'sections':clean_to_list(result)}\n"
   ]
  },
  {
   "cell_type": "code",
   "execution_count": 32,
   "metadata": {},
   "outputs": [
    {
     "name": "stdout",
     "output_type": "stream",
     "text": [
      "Executive Summary\n",
      "Introduction & Our Understanding of Your Needs\n",
      "Proposed Solution: Web Development Strategy\n",
      "Project Scope & Deliverables\n",
      "Technology Stack & Methodology\n",
      "Project Timeline & Milestones\n",
      "Team & Expertise\n",
      "Pricing & Payment Terms\n",
      "Case Studies & Portfolio\n",
      "Maintenance & Support\n",
      "Next Steps & Call to Action\n",
      "Appendix (Optional)\n"
     ]
    },
    {
     "data": {
      "text/plain": [
       "{'sections': 'Executive Summary\\nIntroduction & Our Understanding of Your Needs\\nProposed Solution: Web Development Strategy\\nProject Scope & Deliverables\\nTechnology Stack & Methodology\\nProject Timeline & Milestones\\nTeam & Expertise\\nPricing & Payment Terms\\nCase Studies & Portfolio\\nMaintenance & Support\\nNext Steps & Call to Action\\nAppendix (Optional)'}"
      ]
     },
     "execution_count": 32,
     "metadata": {},
     "output_type": "execute_result"
    }
   ],
   "source": [
    "state = State(additional_info=[], service_dept=\"Web development\",sections=[] ,final_result=[])\n",
    "\n",
    "create_sections(state)"
   ]
  },
  {
   "cell_type": "code",
   "execution_count": null,
   "metadata": {},
   "outputs": [],
   "source": [
    "# sections created now keep a index and iterate over that and ask llm to write them parallelly\n",
    "\n",
    "template = '''{section} from {seller} to {buyer} write this '''\n",
    "prompt = ChatPromptTemplate.from_template(template)\n",
    "\n",
    "\n",
    "chain = prompt | llm | StrOutputParser()\n",
    "\n",
    "# buyer.detailed description , seller.detailed_description , sections , service_chosen , additional_info \n",
    "\n",
    "def write_sales_proposal(state):\n",
    "    for i in state.sections:\n",
    "        result = chain.invoke()\n",
    "        return {'final_result':{state.sections:result.content}}\n",
    "\n"
   ]
  },
  {
   "cell_type": "code",
   "execution_count": 18,
   "metadata": {},
   "outputs": [
    {
     "data": {
      "text/plain": [
       "<langgraph.graph.state.StateGraph at 0x73b36eea5010>"
      ]
     },
     "execution_count": 18,
     "metadata": {},
     "output_type": "execute_result"
    }
   ],
   "source": [
    "from langgraph.graph import StateGraph,START,END\n",
    "\n",
    "builder = StateGraph(State)\n",
    "builder.add_node(create_sections)\n",
    "builder.add_node(write_sales_proposal)\n",
    "\n",
    "builder.add_edge(START,'create_sections')\n",
    "builder.add_edge('create_sections','write_sales_proposal')\n",
    "builder.add_edge('write_sales_proposal',END)"
   ]
  },
  {
   "cell_type": "code",
   "execution_count": 19,
   "metadata": {},
   "outputs": [],
   "source": [
    "graph = builder.compile()"
   ]
  },
  {
   "cell_type": "code",
   "execution_count": null,
   "metadata": {},
   "outputs": [
    {
     "ename": "NameError",
     "evalue": "name 'User' is not defined",
     "output_type": "error",
     "traceback": [
      "\u001b[31m---------------------------------------------------------------------------\u001b[39m",
      "\u001b[31mNameError\u001b[39m                                 Traceback (most recent call last)",
      "\u001b[36mCell\u001b[39m\u001b[36m \u001b[39m\u001b[32mIn[2]\u001b[39m\u001b[32m, line 1\u001b[39m\n\u001b[32m----> \u001b[39m\u001b[32m1\u001b[39m \u001b[43mUser\u001b[49m()\n",
      "\u001b[31mNameError\u001b[39m: name 'User' is not defined"
     ]
    }
   ],
   "source": []
  },
  {
   "cell_type": "code",
   "execution_count": null,
   "metadata": {},
   "outputs": [],
   "source": []
  }
 ],
 "metadata": {
  "kernelspec": {
   "display_name": "genai",
   "language": "python",
   "name": "python3"
  },
  "language_info": {
   "codemirror_mode": {
    "name": "ipython",
    "version": 3
   },
   "file_extension": ".py",
   "mimetype": "text/x-python",
   "name": "python",
   "nbconvert_exporter": "python",
   "pygments_lexer": "ipython3",
   "version": "3.13.2"
  }
 },
 "nbformat": 4,
 "nbformat_minor": 2
}
