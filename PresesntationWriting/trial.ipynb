{
 "cells": [
  {
   "cell_type": "code",
   "execution_count": 1,
   "metadata": {},
   "outputs": [
    {
     "data": {
      "text/plain": [
       "True"
      ]
     },
     "execution_count": 1,
     "metadata": {},
     "output_type": "execute_result"
    }
   ],
   "source": [
    "from dotenv import load_dotenv\n",
    "load_dotenv()"
   ]
  },
  {
   "cell_type": "code",
   "execution_count": 2,
   "metadata": {},
   "outputs": [],
   "source": [
    "from pydantic import BaseModel,Field\n",
    "from typing import List,Annotated,Optional\n",
    "import operator\n",
    "\n",
    "class User(BaseModel):\n",
    "    name : str = Field(description=\"name of the organziation\")\n",
    "    logo : str = Field(description=\"Logo of the given website\")\n",
    "    description : str = Field(description='A detailed description of what the organization does ')\n",
    "    services: List[str] = Field(description=\"A list of services offered by the organization on the given website\")\n",
    "\n",
    "\n",
    "class State(BaseModel):\n",
    "    buyer : Optional[User] = Field(description=' ')\n",
    "    seller :Optional[User] = Field(description=' ')\n",
    "    client_requirement: str  \n",
    "    additional_info : List[str]\n",
    "    service_dept : str\n",
    "    sections : List[str] = Field(description=\"Total sections inside the sales proposal\")\n",
    "    final_result : str = Field(description='')\n",
    "    "
   ]
  },
  {
   "cell_type": "code",
   "execution_count": 3,
   "metadata": {},
   "outputs": [],
   "source": [
    "from langchain_google_genai import ChatGoogleGenerativeAI\n",
    "llm = ChatGoogleGenerativeAI(model = 'gemini-1.5-flash')"
   ]
  },
  {
   "cell_type": "code",
   "execution_count": 4,
   "metadata": {},
   "outputs": [],
   "source": [
    "def clean_to_list(result:str) :\n",
    "    result = result.strip()\n",
    "    if result.startswith('```python'):\n",
    "        result = result[len('```python'):].strip()\n",
    "    elif result.startswith('```json'):\n",
    "        result = result[len('```json'):].strip()\n",
    "    elif result.startswith('```'):\n",
    "        result = result[len('```'):].strip()\n",
    "    if result.endswith('```'):\n",
    "        result = result[:-3].strip()\n",
    "    return result"
   ]
  },
  {
   "cell_type": "code",
   "execution_count": 66,
   "metadata": {},
   "outputs": [],
   "source": [
    "from langchain_core.prompts import ChatPromptTemplate\n",
    "from langchain_core.output_parsers import StrOutputParser\n",
    "# from ..utils import clean_to_list\n",
    "\n",
    "template = '''You are a business consultant specialized in drafting professional sales proposals.\n",
    "\n",
    "Based on the following services offered by the client, generate a list of high-level sections that should be included in a compelling business proposal. These sections should be relevant to the domain and type of services offered.\n",
    "\n",
    "### Services:\n",
    "{services}\n",
    "\n",
    "Return only a clean list of section titles, no explanations or numbering.\n",
    "\n",
    "IMPORTANT :\n",
    "Dont put too much sections just include the important ones like the most necessary and not to forget Scope of work / Project breakdown \n",
    "'''\n",
    "prompt = ChatPromptTemplate.from_template(template)\n",
    "\n",
    "\n",
    "chain = prompt | llm | StrOutputParser()\n",
    "\n",
    "\n",
    "\n",
    "\n",
    "def create_sections(state:State):\n",
    "    result = chain.invoke({'services':state.service_dept})\n",
    "    p = clean_to_list(result)\n",
    "    return {'sections':[\"Title of the sales proposal\"]+p.split('\\n')}\n"
   ]
  },
  {
   "cell_type": "code",
   "execution_count": 65,
   "metadata": {},
   "outputs": [
    {
     "data": {
      "text/plain": [
       "['Executive Summary',\n",
       " 'Introduction',\n",
       " 'Our Approach',\n",
       " 'Technology Solutions',\n",
       " 'Scope of Work / Project Breakdown',\n",
       " 'Timeline & Milestones',\n",
       " 'Pricing & Payment Terms',\n",
       " 'Client Testimonials/Case Studies',\n",
       " 'Next Steps/Call to Action',\n",
       " 'Appendix (Optional)']"
      ]
     },
     "execution_count": 65,
     "metadata": {},
     "output_type": "execute_result"
    }
   ],
   "source": [
    "s = 'Executive Summary\\nIntroduction\\nOur Approach\\nTechnology Solutions\\nScope of Work / Project Breakdown\\nTimeline & Milestones\\nPricing & Payment Terms\\nClient Testimonials/Case Studies\\nNext Steps/Call to Action\\nAppendix (Optional)'\n",
    "s.split('\\n')"
   ]
  },
  {
   "cell_type": "code",
   "execution_count": 28,
   "metadata": {},
   "outputs": [
    {
     "data": {
      "text/plain": [
       "[1, 2, 3, 4]"
      ]
     },
     "execution_count": 28,
     "metadata": {},
     "output_type": "execute_result"
    }
   ],
   "source": [
    "[1,2]+[3,4]"
   ]
  },
  {
   "cell_type": "code",
   "execution_count": 67,
   "metadata": {},
   "outputs": [],
   "source": [
    "from langchain.prompts import ChatPromptTemplate\n",
    "from langchain_core.output_parsers import StrOutputParser\n",
    "\n",
    "p_template = '''You are a senior enterprise consultant and proposal strategist with years of experience writing persuasive, high-quality sales proposals for B2B companies across technology, digital, and marketing domains.\n",
    "\n",
    "Your task is to generate a **structured, executive-grade Sales Proposal** based on the input below. Keep the tone professional and persuasive, suitable for leadership and decision-makers.\n",
    "\n",
    "---\n",
    "\n",
    "## 🧩 Buyer Organization:\n",
    "{description_b}\n",
    "\n",
    "## 🏢 Seller Organization:\n",
    "{description_s}\n",
    "\n",
    "## 📋 Client Requirements (Project Needs, Expectations, Goals, Constraints):\n",
    "{client_requirements}\n",
    "\n",
    "## 🎯 Target Department:\n",
    "{service_dept}\n",
    "\n",
    "---\n",
    "\n",
    "### 📄 Required Sections\n",
    "\n",
    "Use the following sections in this exact order. Do **not create new sections**, and **do not rename them**. Keep most sections **concise (2–4 paragraphs)** but make **“Scope of Work” very detailed** with structured breakdowns.\n",
    "\n",
    "{section_list}\n",
    "\n",
    "At the end, always include:\n",
    "- **Who We Are**\n",
    "- **What We Do**\n",
    "\n",
    "---\n",
    "\n",
    "### 🛠️ Special Instructions for “Scope of Work”\n",
    "\n",
    "This section must be written in **detailed breakdown format**.\n",
    "\n",
    "- Use clear subheaders or bullet points for each phase or deliverable.\n",
    "- Elaborate tasks clearly using context from additional informtation\n",
    "-----------\n",
    "{additional_info}.\n",
    "----------------\n",
    "IMPORTANT : If there is no breakdown of the task then breakdown yourself and then explain each phase with atleast 4-5 bullet points\n",
    "and if there is breakdown then do try to utilize info and still write 4-5 points properly\n",
    "- Example format:\n",
    "\n",
    "Discovery & Planning (Week 1–2)\n",
    "\n",
    "Conduct kickoff with buyer team to gather expectations\n",
    "\n",
    "Create user journeys and goal mapping\n",
    "\n",
    "Perform competitive audit for design inspiration and SEO alignment\n",
    "\n",
    "UI/UX Design (Week 3–4)\n",
    "\n",
    "Wireframes for key pages\n",
    "\n",
    "Brand-aligned visual mockups with review cycles\n",
    "\n",
    "Frontend Development (Week 5–7)\n",
    "\n",
    "Responsive development using Bootstrap\n",
    "\n",
    "Animations, product pages, and forms\n",
    "\n",
    "\n",
    "\n",
    "Use **phase-wise structuring** like Discovery, Design, Development, Launch, SEO, etc., and explain each step in business-impact terms — showing **how it contributes to client goals**.\n",
    "\n",
    "---\n",
    "\n",
    "### ✍️ Writing Style & Examples\n",
    "\n",
    "Follow these guidelines:\n",
    "\n",
    "- ✅ Use a **professional, business-friendly tone** suitable for executive audiences.\n",
    "- ✅ Write **2–4 paragraphs per section** — detailed, but not bloated.\n",
    "- ✅ Use bullet points where appropriate (for Deliverables, Timelines, Fee Structure).\n",
    "- ✅ Integrate `{client_requirements}` contextually — refer to business goals, constraints, project scope, and domain.\n",
    "- ✅ Emphasize **value, clarity, and confidence** — this is a persuasive sales proposal.\n",
    "\n",
    "---\n",
    "\n",
    "### 📤 Output Format\n",
    "\n",
    "Return the final result as a list of dictionaries, each with `\"title\"` and `\"text\"` fields, in **valid JSON-like format**:\n",
    "\n",
    "```json\n",
    "[ {{\"title\":\"Title of the proposal\",\"text\":\"...\"}}\n",
    "  {{\"title\": \"Executive Summary\", \"text\": \"...\"}},\n",
    "  {{\"title\": \"Scope of Work\", \"text\": \"...\"}},\n",
    "  ...\n",
    "  {{\"title\": \"Who We Are\", \"text\": \"...\"}},\n",
    "  {{\"title\": \"What We Do\", \"text\": \"...\"}}\n",
    "]\n",
    "\n",
    "'''\n",
    "\n",
    "# Set up LangChain prompt + parser\n",
    "p_prompt = ChatPromptTemplate.from_template(p_template)\n",
    "p_chain = p_prompt | llm | StrOutputParser()\n",
    "\n",
    "# Function to generate the full proposal\n",
    "def write_sales_proposal(state):\n",
    "    section_string = \"\\n\".join([f\"- {s}\" for s in state.sections])\n",
    "    client_reqs = \"\\n\".join(state.additional_info)\n",
    "\n",
    "    result = p_chain.invoke({\n",
    "        'description_s': state.seller.description,\n",
    "        'description_b': state.buyer.description,\n",
    "        'client_requirements': client_reqs,\n",
    "        'service_dept': state.service_dept,\n",
    "        'section_list': section_string,\n",
    "        'additional_info':state.additional_info\n",
    "    })\n",
    "\n",
    "    return {'final_result': result}\n"
   ]
  },
  {
   "cell_type": "code",
   "execution_count": 68,
   "metadata": {},
   "outputs": [
    {
     "data": {
      "text/plain": [
       "<langgraph.graph.state.StateGraph at 0x79fd7740b650>"
      ]
     },
     "execution_count": 68,
     "metadata": {},
     "output_type": "execute_result"
    }
   ],
   "source": [
    "from langgraph.graph import StateGraph,START,END\n",
    "\n",
    "builder = StateGraph(State)\n",
    "builder.add_node(create_sections)\n",
    "builder.add_node(write_sales_proposal)\n",
    "\n",
    "builder.add_edge(START,'create_sections')\n",
    "builder.add_edge('create_sections','write_sales_proposal')\n",
    "builder.add_edge('write_sales_proposal',END)"
   ]
  },
  {
   "cell_type": "code",
   "execution_count": 69,
   "metadata": {},
   "outputs": [],
   "source": [
    "graph = builder.compile()"
   ]
  },
  {
   "cell_type": "code",
   "execution_count": 70,
   "metadata": {},
   "outputs": [],
   "source": [
    "buyer = User(name='GROWTHSUTRA' ,logo='https://static.wixstatic.com/media/cb6b3d_5c8f2b020ebe48b69bc8c163cc480156~mv2.png/v1/fill/w_60,h_60,al_c,q_85,usm_0.66_1.00_0.01,enc_avif,quality_auto/GrowthSutra%20Logo.png' ,description=\"At GrowthSutra, we are the go-to experts dedicated to accelerate brand and revenue growth for startups and SMBs. We provide the Fortune 500-caliber strategic thinking and flawless execution needed to gain market access, customer traction, and investor interest. Our team is comprised of seasoned marketing, communications, sales, and leadership executives, each with over 20+ years of real-world expertise launching and scaling disruptive brands across technology, e-commerce, climate, FMCG, and other major industries. We combine our team\\\\'s unmatched experience with rigorous project governance and proven data-driven frameworks to get you measurable results fast. Our approach is tailored to each client\\\\'s unique needs and objectives.\" ,services=['XPRT Co-Pilots', 'On Demand CMO', 'Ice Breakers', 'GTM Partner', 'Go-To-Market Partner', 'Revenue Architect', 'On-Demand CMO'])"
   ]
  },
  {
   "cell_type": "code",
   "execution_count": 71,
   "metadata": {},
   "outputs": [
    {
     "data": {
      "text/plain": [
       "'https://static.wixstatic.com/media/cb6b3d_5c8f2b020ebe48b69bc8c163cc480156~mv2.png/v1/fill/w_60,h_60,al_c,q_85,usm_0.66_1.00_0.01,enc_avif,quality_auto/GrowthSutra%20Logo.png'"
      ]
     },
     "execution_count": 71,
     "metadata": {},
     "output_type": "execute_result"
    }
   ],
   "source": [
    "buyer.logo"
   ]
  },
  {
   "cell_type": "code",
   "execution_count": 72,
   "metadata": {},
   "outputs": [],
   "source": [
    "seller = User(name = 'TCS', logo = 'https://www.tcs.com/content/dam/global-tcs/en/images/home/tata-logo-1.svg',description= 'TCS works hand in hand with world-leading investors.', services=  ['Artificial Intelligence', 'Cloud', 'Cognitive Business Operations', 'Consulting', 'Cybersecurity', 'Data & Analytics', 'Enterprise' ])"
   ]
  },
  {
   "cell_type": "code",
   "execution_count": 73,
   "metadata": {},
   "outputs": [],
   "source": [
    "client_requirement = \"Building a website for their domain\"\n",
    "\n",
    "additonal_info = [\"This task is done in like 2 weeeks with cost of $4000 \"]\n",
    "\n",
    "service_dept = 'Technology'"
   ]
  },
  {
   "cell_type": "code",
   "execution_count": 74,
   "metadata": {},
   "outputs": [],
   "source": [
    "state = State(buyer = seller,seller = buyer,client_requirement=client_requirement,additional_info=additonal_info,service_dept=service_dept,sections=[],final_result='')"
   ]
  },
  {
   "cell_type": "code",
   "execution_count": null,
   "metadata": {},
   "outputs": [],
   "source": []
  },
  {
   "cell_type": "code",
   "execution_count": 75,
   "metadata": {},
   "outputs": [],
   "source": [
    "# create_sections(state)"
   ]
  },
  {
   "cell_type": "code",
   "execution_count": 76,
   "metadata": {},
   "outputs": [],
   "source": [
    "state = graph.invoke(state)"
   ]
  },
  {
   "cell_type": "code",
   "execution_count": 77,
   "metadata": {},
   "outputs": [
    {
     "name": "stdout",
     "output_type": "stream",
     "text": [
      "```json\n",
      "[\n",
      "  {\"title\": \"Title of the sales proposal\", \"text\": \"Accelerating Brand & Revenue Growth for TCS: A GrowthSutra Proposal\"},\n",
      "  {\"title\": \"Executive Summary\", \"text\": \"GrowthSutra proposes a two-week, $4,000 engagement to significantly enhance TCS's brand visibility and investor appeal within the technology sector. Leveraging our team's decades of experience in launching and scaling disruptive brands, we will deliver a targeted strategy focused on achieving measurable results within the stipulated timeframe. This proposal outlines a comprehensive plan encompassing strategic planning, brand messaging refinement, and targeted outreach to key stakeholders, ensuring alignment with TCS's overall objectives and investor expectations.\"},\n",
      "  {\"title\": \"Introduction\", \"text\": \"TCS, a leader in collaborating with world-class investors, requires a rapid and impactful solution to amplify its brand presence and attract further investment. GrowthSutra understands this need and offers a tailored, results-driven approach designed to deliver tangible outcomes within a concise timeframe. Our proven methodologies and experienced team ensure efficient execution and maximize the return on investment.\"},\n",
      "  {\"title\": \"Company Overview\", \"text\": \"GrowthSutra is a leading growth consultancy specializing in accelerating brand and revenue growth for startups and SMBs. We bring Fortune 500-caliber strategic thinking and flawless execution to help clients gain market access, customer traction, and investor interest. Our team comprises seasoned marketing, communications, sales, and leadership executives with 20+ years of experience launching and scaling disruptive brands across various sectors.  We combine this unmatched experience with rigorous project governance and data-driven frameworks to deliver measurable results quickly.\"},\n",
      "  {\"title\": \"Proposed Solution\", \"text\": \"Our proposed solution focuses on a rapid brand enhancement strategy tailored to TCS's specific needs and the two-week timeframe. This will involve a deep dive into TCS's current brand positioning, competitive landscape, and target investor profiles. We will refine key messaging, identify high-impact outreach channels, and develop a compelling narrative that resonates with investors and showcases TCS's value proposition effectively. This concentrated effort will maximize impact and demonstrably improve investor perception within the allotted time.\"},\n",
      "  {\"title\": \"Technology Stack\", \"text\": \"While this engagement primarily focuses on strategic planning and brand messaging, our team will leverage various digital tools to enhance efficiency and analysis. This includes project management software (e.g., Asana, Monday.com), communication platforms (e.g., Slack), and data analytics tools to track progress and measure results against established KPIs. Specific tools will be selected based on TCS's preferences and existing infrastructure.\"},\n",
      "  {\"title\": \"Scope of Work / Project Breakdown\", \"text\": \"This project, completed within two weeks for $4000, will be delivered in two distinct phases:\\n\\n**Phase 1: Strategic Planning & Messaging (Week 1)**\\n*   Conduct a kickoff meeting with the TCS team to define project goals, objectives, and key performance indicators (KPIs).\\n*   Perform a comprehensive competitive analysis to identify key differentiators and opportunities for TCS.\\n*   Develop a refined brand messaging framework highlighting TCS's unique value proposition and competitive advantages.\\n*   Identify and prioritize target investor segments based on their investment criteria and TCS's alignment.\\n*   Create a preliminary outreach strategy targeting key investors and outlining communication channels.\\n\\n**Phase 2:  Execution & Reporting (Week 2)**\\n*   Develop compelling investor-facing materials (e.g., pitch deck summaries, one-pager summaries).\\n*   Implement the outreach strategy, coordinating communication across identified channels.\\n*   Monitor and analyze campaign performance against pre-defined KPIs.\\n*   Prepare a comprehensive final report summarizing results and outlining recommendations for future initiatives.\\n*   Conduct a final review meeting with the TCS team to present findings and answer any questions.\"},\n",
      "  {\"title\": \"Timeline & Milestones\", \"text\": \"**Week 1:** Strategic Planning & Messaging (Kickoff, Competitive Analysis, Messaging Framework, Target Investor Identification, Outreach Strategy)\\n**Week 2:** Execution & Reporting (Material Development, Outreach Implementation, Performance Monitoring, Final Report, Review Meeting)\"},\n",
      "  {\"title\": \"Pricing & Payment Terms\", \"text\": \"The total project cost is $4,000, payable upon completion of the project and acceptance of the deliverables.  An invoice will be issued upon completion.\"},\n",
      "  {\"title\": \"Team & Expertise\", \"text\": \"Our project team will comprise a seasoned strategist with 20+ years of experience in brand building and investor relations, and a senior marketing executive with proven success in executing high-impact campaigns.  Their combined expertise ensures a tailored and effective approach to achieving your goals.\"},\n",
      "  {\"title\": \"References & Case Studies\", \"text\": \"We are happy to provide references and case studies upon request, showcasing our successful track record in helping clients achieve significant growth and attract substantial investment.  These examples will demonstrate the effectiveness of our strategies and methodologies in similar contexts.\"},\n",
      "  {\"title\": \"Conclusion\", \"text\": \"GrowthSutra offers a highly effective and cost-efficient solution to significantly enhance TCS's brand visibility and investor appeal within a compressed timeframe. Our experienced team and proven methodologies guarantee measurable results, aligning perfectly with your immediate needs and long-term objectives. We are confident that our partnership will lead to a successful outcome.\"},\n",
      "  {\"title\": \"Next Steps\", \"text\": \"We propose a brief introductory call to discuss your specific requirements in more detail and answer any questions you may have. Following this call, we can finalize the project scope and commence work immediately.\"},\n",
      "  {\"title\": \"Who We Are\", \"text\": \"GrowthSutra is a results-oriented growth consultancy specializing in helping startups and SMBs achieve rapid and sustainable growth. We are dedicated to providing Fortune 500-caliber strategies and execution, empowering our clients to achieve their full potential.\"},\n",
      "  {\"title\": \"What We Do\", \"text\": \"We offer a comprehensive suite of growth services, including brand strategy, marketing, sales enablement, and investor relations. Our approach is tailored to each client's unique needs and objectives, ensuring measurable results and a strong return on investment.\"}\n",
      "]\n",
      "```\n"
     ]
    }
   ],
   "source": [
    "print(state['final_result'])"
   ]
  },
  {
   "cell_type": "code",
   "execution_count": 78,
   "metadata": {},
   "outputs": [],
   "source": [
    "def clean_to_list(result:str) :\n",
    "    result = result.strip()\n",
    "    if result.startswith('```python'):\n",
    "        result = result[len('```python'):].strip()\n",
    "    elif result.startswith('```json'):\n",
    "        result = result[len('```json'):].strip()\n",
    "    elif result.startswith('```'):\n",
    "        result = result[len('```'):].strip()\n",
    "    if result.endswith('```'):\n",
    "        result = result[:-3].strip()\n",
    "    return result\n",
    "\n",
    "result = clean_to_list(state['final_result'])"
   ]
  },
  {
   "cell_type": "code",
   "execution_count": 79,
   "metadata": {},
   "outputs": [],
   "source": [
    "import json\n",
    "result = json.loads(result)"
   ]
  },
  {
   "cell_type": "code",
   "execution_count": 80,
   "metadata": {},
   "outputs": [
    {
     "name": "stdout",
     "output_type": "stream",
     "text": [
      "[{'title': 'Title of the sales proposal', 'text': 'Accelerating Brand & Revenue Growth for TCS: A GrowthSutra Proposal'}, {'title': 'Executive Summary', 'text': \"GrowthSutra proposes a two-week, $4,000 engagement to significantly enhance TCS's brand visibility and investor appeal within the technology sector. Leveraging our team's decades of experience in launching and scaling disruptive brands, we will deliver a targeted strategy focused on achieving measurable results within the stipulated timeframe. This proposal outlines a comprehensive plan encompassing strategic planning, brand messaging refinement, and targeted outreach to key stakeholders, ensuring alignment with TCS's overall objectives and investor expectations.\"}, {'title': 'Introduction', 'text': 'TCS, a leader in collaborating with world-class investors, requires a rapid and impactful solution to amplify its brand presence and attract further investment. GrowthSutra understands this need and offers a tailored, results-driven approach designed to deliver tangible outcomes within a concise timeframe. Our proven methodologies and experienced team ensure efficient execution and maximize the return on investment.'}, {'title': 'Company Overview', 'text': 'GrowthSutra is a leading growth consultancy specializing in accelerating brand and revenue growth for startups and SMBs. We bring Fortune 500-caliber strategic thinking and flawless execution to help clients gain market access, customer traction, and investor interest. Our team comprises seasoned marketing, communications, sales, and leadership executives with 20+ years of experience launching and scaling disruptive brands across various sectors.  We combine this unmatched experience with rigorous project governance and data-driven frameworks to deliver measurable results quickly.'}, {'title': 'Proposed Solution', 'text': \"Our proposed solution focuses on a rapid brand enhancement strategy tailored to TCS's specific needs and the two-week timeframe. This will involve a deep dive into TCS's current brand positioning, competitive landscape, and target investor profiles. We will refine key messaging, identify high-impact outreach channels, and develop a compelling narrative that resonates with investors and showcases TCS's value proposition effectively. This concentrated effort will maximize impact and demonstrably improve investor perception within the allotted time.\"}, {'title': 'Technology Stack', 'text': \"While this engagement primarily focuses on strategic planning and brand messaging, our team will leverage various digital tools to enhance efficiency and analysis. This includes project management software (e.g., Asana, Monday.com), communication platforms (e.g., Slack), and data analytics tools to track progress and measure results against established KPIs. Specific tools will be selected based on TCS's preferences and existing infrastructure.\"}, {'title': 'Scope of Work / Project Breakdown', 'text': \"This project, completed within two weeks for $4000, will be delivered in two distinct phases:\\n\\n**Phase 1: Strategic Planning & Messaging (Week 1)**\\n*   Conduct a kickoff meeting with the TCS team to define project goals, objectives, and key performance indicators (KPIs).\\n*   Perform a comprehensive competitive analysis to identify key differentiators and opportunities for TCS.\\n*   Develop a refined brand messaging framework highlighting TCS's unique value proposition and competitive advantages.\\n*   Identify and prioritize target investor segments based on their investment criteria and TCS's alignment.\\n*   Create a preliminary outreach strategy targeting key investors and outlining communication channels.\\n\\n**Phase 2:  Execution & Reporting (Week 2)**\\n*   Develop compelling investor-facing materials (e.g., pitch deck summaries, one-pager summaries).\\n*   Implement the outreach strategy, coordinating communication across identified channels.\\n*   Monitor and analyze campaign performance against pre-defined KPIs.\\n*   Prepare a comprehensive final report summarizing results and outlining recommendations for future initiatives.\\n*   Conduct a final review meeting with the TCS team to present findings and answer any questions.\"}, {'title': 'Timeline & Milestones', 'text': '**Week 1:** Strategic Planning & Messaging (Kickoff, Competitive Analysis, Messaging Framework, Target Investor Identification, Outreach Strategy)\\n**Week 2:** Execution & Reporting (Material Development, Outreach Implementation, Performance Monitoring, Final Report, Review Meeting)'}, {'title': 'Pricing & Payment Terms', 'text': 'The total project cost is $4,000, payable upon completion of the project and acceptance of the deliverables.  An invoice will be issued upon completion.'}, {'title': 'Team & Expertise', 'text': 'Our project team will comprise a seasoned strategist with 20+ years of experience in brand building and investor relations, and a senior marketing executive with proven success in executing high-impact campaigns.  Their combined expertise ensures a tailored and effective approach to achieving your goals.'}, {'title': 'References & Case Studies', 'text': 'We are happy to provide references and case studies upon request, showcasing our successful track record in helping clients achieve significant growth and attract substantial investment.  These examples will demonstrate the effectiveness of our strategies and methodologies in similar contexts.'}, {'title': 'Conclusion', 'text': \"GrowthSutra offers a highly effective and cost-efficient solution to significantly enhance TCS's brand visibility and investor appeal within a compressed timeframe. Our experienced team and proven methodologies guarantee measurable results, aligning perfectly with your immediate needs and long-term objectives. We are confident that our partnership will lead to a successful outcome.\"}, {'title': 'Next Steps', 'text': 'We propose a brief introductory call to discuss your specific requirements in more detail and answer any questions you may have. Following this call, we can finalize the project scope and commence work immediately.'}, {'title': 'Who We Are', 'text': 'GrowthSutra is a results-oriented growth consultancy specializing in helping startups and SMBs achieve rapid and sustainable growth. We are dedicated to providing Fortune 500-caliber strategies and execution, empowering our clients to achieve their full potential.'}, {'title': 'What We Do', 'text': \"We offer a comprehensive suite of growth services, including brand strategy, marketing, sales enablement, and investor relations. Our approach is tailored to each client's unique needs and objectives, ensuring measurable results and a strong return on investment.\"}]\n"
     ]
    }
   ],
   "source": [
    "print(result)"
   ]
  },
  {
   "cell_type": "code",
   "execution_count": 81,
   "metadata": {},
   "outputs": [],
   "source": [
    "with open('output.txt', 'w', encoding='utf-8') as f:\n",
    "    for entry in result:\n",
    "        f.write(f\"Title: {entry['title']}\\n\")\n",
    "        f.write(f\"Text: {entry['text']}\\n\\n\")"
   ]
  },
  {
   "cell_type": "code",
   "execution_count": 6,
   "metadata": {},
   "outputs": [],
   "source": [
    "\n",
    "import pdfkit\n",
    "\n",
    "def convert_html_to_pdf(html_path, output_pdf=None):\n",
    "    if output_pdf is None:\n",
    "        output_pdf = html_path.replace('.html', '.pdf')\n",
    "    \n",
    "    options = {\n",
    "        'enable-local-file-access': None,\n",
    "        'page-size': 'A4',\n",
    "        'encoding': 'UTF-8',\n",
    "        'quiet': ''\n",
    "    }\n",
    "    \n",
    "    pdfkit.from_file(html_path, output_pdf, options=options)\n",
    "    return output_pdf\n"
   ]
  },
  {
   "cell_type": "code",
   "execution_count": 4,
   "metadata": {},
   "outputs": [],
   "source": [
    "html_path = '/home/shreyank/Gen-ai/Growth/PresesntationWriting/output_presentation.html'"
   ]
  },
  {
   "cell_type": "code",
   "execution_count": 7,
   "metadata": {},
   "outputs": [
    {
     "data": {
      "text/plain": [
       "'/home/shreyank/Gen-ai/Growth/PresesntationWriting/output_presentation.pdf'"
      ]
     },
     "execution_count": 7,
     "metadata": {},
     "output_type": "execute_result"
    }
   ],
   "source": [
    "convert_html_to_pdf(html_path)"
   ]
  },
  {
   "cell_type": "code",
   "execution_count": 5,
   "metadata": {},
   "outputs": [
    {
     "name": "stdout",
     "output_type": "stream",
     "text": [
      "PDF generated successfully: output.pdf\n"
     ]
    },
    {
     "data": {
      "text/plain": [
       "True"
      ]
     },
     "execution_count": 5,
     "metadata": {},
     "output_type": "execute_result"
    }
   ],
   "source": [
    "def html_to_pdf_pdfkit(html_content, output_path):\n",
    "    \"\"\"\n",
    "    pdfkit with specific options to handle page breaks\n",
    "    pip install pdfkit\n",
    "    Also need to install wkhtmltopdf system package\n",
    "    \"\"\"\n",
    "    try:\n",
    "        import pdfkit\n",
    "        \n",
    "        options = {\n",
    "            'page-size': 'A4',\n",
    "            'margin-top': '20mm',\n",
    "            'margin-right': '20mm',\n",
    "            'margin-bottom': '20mm',\n",
    "            'margin-left': '20mm',\n",
    "            'encoding': \"UTF-8\",\n",
    "            'no-outline': None,\n",
    "            'enable-local-file-access': None,\n",
    "            'print-media-type': None,\n",
    "            'disable-smart-shrinking': None,\n",
    "        }\n",
    "        \n",
    "        pdfkit.from_string(html_content, output_path, options=options)\n",
    "        print(f\"PDF generated successfully: {output_path}\")\n",
    "        return True\n",
    "    except ImportError:\n",
    "        print(\"pdfkit not installed. Run: pip install pdfkit\")\n",
    "        return False\n",
    "    except Exception as e:\n",
    "        print(f\"Error generating PDF: {e}\")\n",
    "        return False\n",
    "\n",
    "\n",
    "html_to_pdf_pdfkit(html_path,'output.pdf')"
   ]
  },
  {
   "cell_type": "code",
   "execution_count": null,
   "metadata": {},
   "outputs": [],
   "source": []
  }
 ],
 "metadata": {
  "kernelspec": {
   "display_name": "adk",
   "language": "python",
   "name": "python3"
  },
  "language_info": {
   "codemirror_mode": {
    "name": "ipython",
    "version": 3
   },
   "file_extension": ".py",
   "mimetype": "text/x-python",
   "name": "python",
   "nbconvert_exporter": "python",
   "pygments_lexer": "ipython3",
   "version": "3.13.2"
  }
 },
 "nbformat": 4,
 "nbformat_minor": 2
}
